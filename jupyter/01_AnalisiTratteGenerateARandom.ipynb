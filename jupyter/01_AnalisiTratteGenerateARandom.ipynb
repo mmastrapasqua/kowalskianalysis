{
 "cells": [
  {
   "cell_type": "code",
   "execution_count": 1,
   "metadata": {
    "collapsed": true
   },
   "outputs": [],
   "source": [
    "%matplotlib inline\n",
    "import numpy as np\n",
    "import pandas as pd\n",
    "import matplotlib.pyplot as plt\n",
    "\n",
    "from scipy.constants import golden\n",
    "plt.style.use('default')\n",
    "plt.rc('figure', figsize=((5.0, 5.0 / golden)))\n",
    "\n",
    "# VARIABILI\n",
    "csvfile = 'csv/alldata.csv'\n",
    "distance_param = 'ADistance'\n",
    "gcolors = ['green', 'orange', 'red']\n",
    "gbins = [2.0, 3.0, 4.0, 5.0, 6.0, 7.0, 8.0, 9.0]\n",
    "myindex = [\n",
    "    '0:00', '7:00', '8:00', '9:00', '10:00',\n",
    "    '11:00', '12:00', '13:00', '14:00',\n",
    "    '15:00','16:00', '17:00', '18:00',\n",
    "    '19:00', '20:00', '21:00', '22:00',\n",
    "    '23:00']\n",
    "\n",
    "# LETTURA DATI\n",
    "tragitti = pd.read_csv(csvfile, index_col=False)\n",
    "\n",
    "# PULIZIA DATI\n",
    "pre_lock_cond = (tragitti['Month'] == 3) & (tragitti['Day'] < 13)\n",
    "post_lock_cond = ((tragitti['Month'] == 5) & (tragitti['Day'] >= 4)) | (tragitti['Month'] > 5)\n",
    "tragitti = tragitti[post_lock_cond]\n",
    "\n",
    "def clean(df):\n",
    "    distance_cond = df[distance_param] > 0\n",
    "    moovit_cond = df['Public'] > 12\n",
    "    public_cond = df['Public'] > 0\n",
    "    bike_cond = df['Bike'] > 0\n",
    "    foot_cond = df['Foot'] > 0\n",
    "    car_cond = df['Car'] > 0\n",
    "    car2go_cond = df['Car2Go'] > 0\n",
    "    enjoy_cond = df['Enjoy'] > 0\n",
    "    coherence_cond = (df['Car'] <= df['Car2Go']) & (df['Car'] <= df['Enjoy'])\n",
    "    cleaned = distance_cond & public_cond & bike_cond & foot_cond & car_cond & car2go_cond & enjoy_cond & coherence_cond\n",
    "    return cleaned"
   ]
  },
  {
   "cell_type": "code",
   "execution_count": 2,
   "metadata": {
    "scrolled": true
   },
   "outputs": [
    {
     "data": {
      "image/png": "[encoded data removed]",
      "text/plain": [
       "<matplotlib.figure.Figure at 0x7f82288e32d0>"
      ]
     },
     "metadata": {},
     "output_type": "display_data"
    }
   ],
   "source": [
    "tragitti = tragitti[clean(tragitti)]\n",
    "sample = tragitti[distance_param]\n",
    "\n",
    "f, (h, b) = plt.subplots(2, 1, gridspec_kw = {'height_ratios':[4, 3]})\n",
    "f.set_figheight(6)\n",
    "\n",
    "h.yaxis.label.set_visible(False)\n",
    "\n",
    "sample.plot.hist(bins=gbins, ax=h)\n",
    "sample.plot.box(vert=False, whis='range', ax=b, widths=.4)\n",
    "plt.xlabel('lunghezza tratta [km]')\n",
    "plt.show()"
   ]
  },
  {
   "cell_type": "code",
   "execution_count": 3,
   "metadata": {
    "scrolled": true
   },
   "outputs": [
    {
     "data": {
      "text/plain": [
       "count    49560.000000\n",
       "mean         3.794265\n",
       "std          1.271980\n",
       "min          2.000031\n",
       "25%          2.763304\n",
       "50%          3.574016\n",
       "75%          4.595611\n",
       "max          9.527613\n",
       "Name: ADistance, dtype: float64"
      ]
     },
     "execution_count": 3,
     "metadata": {},
     "output_type": "execute_result"
    }
   ],
   "source": [
    "sample.describe()"
   ]
  },
  {
   "cell_type": "code",
   "execution_count": 9,
   "metadata": {},
   "outputs": [
    {
     "data": {
      "text/plain": [
       "3.5740155000000002"
      ]
     },
     "execution_count": 9,
     "metadata": {},
     "output_type": "execute_result"
    }
   ],
   "source": [
    "sample.median()"
   ]
  },
  {
   "cell_type": "code",
   "execution_count": 4,
   "metadata": {},
   "outputs": [
    {
     "data": {
      "text/html": [
       "<div>\n",
       "<style>\n",
       "    .dataframe thead tr:only-child th {\n",
       "        text-align: right;\n",
       "    }\n",
       "\n",
       "    .dataframe thead th {\n",
       "        text-align: left;\n",
       "    }\n",
       "\n",
       "    .dataframe tbody tr th {\n",
       "        vertical-align: top;\n",
       "    }\n",
       "</style>\n",
       "<table border=\"1\" class=\"dataframe\">\n",
       "  <thead>\n",
       "    <tr style=\"text-align: right;\">\n",
       "      <th>ADistance</th>\n",
       "      <th>(2.0, 3.0]</th>\n",
       "      <th>(3.0, 4.0]</th>\n",
       "      <th>(4.0, 5.0]</th>\n",
       "      <th>(5.0, 6.0]</th>\n",
       "      <th>(6.0, 7.0]</th>\n",
       "      <th>(7.0, 8.0]</th>\n",
       "      <th>(8.0, 9.0]</th>\n",
       "    </tr>\n",
       "  </thead>\n",
       "  <tbody>\n",
       "    <tr>\n",
       "      <th>0:00</th>\n",
       "      <td>916</td>\n",
       "      <td>760</td>\n",
       "      <td>559</td>\n",
       "      <td>278</td>\n",
       "      <td>107</td>\n",
       "      <td>34</td>\n",
       "      <td>4</td>\n",
       "    </tr>\n",
       "    <tr>\n",
       "      <th>7:00</th>\n",
       "      <td>890</td>\n",
       "      <td>728</td>\n",
       "      <td>580</td>\n",
       "      <td>306</td>\n",
       "      <td>114</td>\n",
       "      <td>32</td>\n",
       "      <td>4</td>\n",
       "    </tr>\n",
       "    <tr>\n",
       "      <th>8:00</th>\n",
       "      <td>844</td>\n",
       "      <td>798</td>\n",
       "      <td>524</td>\n",
       "      <td>299</td>\n",
       "      <td>120</td>\n",
       "      <td>42</td>\n",
       "      <td>6</td>\n",
       "    </tr>\n",
       "    <tr>\n",
       "      <th>9:00</th>\n",
       "      <td>882</td>\n",
       "      <td>743</td>\n",
       "      <td>548</td>\n",
       "      <td>326</td>\n",
       "      <td>126</td>\n",
       "      <td>40</td>\n",
       "      <td>6</td>\n",
       "    </tr>\n",
       "    <tr>\n",
       "      <th>10:00</th>\n",
       "      <td>859</td>\n",
       "      <td>816</td>\n",
       "      <td>533</td>\n",
       "      <td>315</td>\n",
       "      <td>146</td>\n",
       "      <td>48</td>\n",
       "      <td>5</td>\n",
       "    </tr>\n",
       "    <tr>\n",
       "      <th>11:00</th>\n",
       "      <td>868</td>\n",
       "      <td>789</td>\n",
       "      <td>585</td>\n",
       "      <td>298</td>\n",
       "      <td>107</td>\n",
       "      <td>28</td>\n",
       "      <td>9</td>\n",
       "    </tr>\n",
       "    <tr>\n",
       "      <th>12:00</th>\n",
       "      <td>884</td>\n",
       "      <td>805</td>\n",
       "      <td>594</td>\n",
       "      <td>311</td>\n",
       "      <td>123</td>\n",
       "      <td>44</td>\n",
       "      <td>15</td>\n",
       "    </tr>\n",
       "    <tr>\n",
       "      <th>13:00</th>\n",
       "      <td>897</td>\n",
       "      <td>803</td>\n",
       "      <td>549</td>\n",
       "      <td>355</td>\n",
       "      <td>138</td>\n",
       "      <td>42</td>\n",
       "      <td>9</td>\n",
       "    </tr>\n",
       "    <tr>\n",
       "      <th>14:00</th>\n",
       "      <td>898</td>\n",
       "      <td>757</td>\n",
       "      <td>559</td>\n",
       "      <td>336</td>\n",
       "      <td>142</td>\n",
       "      <td>41</td>\n",
       "      <td>8</td>\n",
       "    </tr>\n",
       "    <tr>\n",
       "      <th>15:00</th>\n",
       "      <td>895</td>\n",
       "      <td>748</td>\n",
       "      <td>600</td>\n",
       "      <td>321</td>\n",
       "      <td>121</td>\n",
       "      <td>31</td>\n",
       "      <td>5</td>\n",
       "    </tr>\n",
       "    <tr>\n",
       "      <th>16:00</th>\n",
       "      <td>883</td>\n",
       "      <td>767</td>\n",
       "      <td>558</td>\n",
       "      <td>334</td>\n",
       "      <td>118</td>\n",
       "      <td>38</td>\n",
       "      <td>16</td>\n",
       "    </tr>\n",
       "    <tr>\n",
       "      <th>17:00</th>\n",
       "      <td>903</td>\n",
       "      <td>804</td>\n",
       "      <td>581</td>\n",
       "      <td>302</td>\n",
       "      <td>124</td>\n",
       "      <td>44</td>\n",
       "      <td>9</td>\n",
       "    </tr>\n",
       "    <tr>\n",
       "      <th>18:00</th>\n",
       "      <td>943</td>\n",
       "      <td>799</td>\n",
       "      <td>566</td>\n",
       "      <td>305</td>\n",
       "      <td>124</td>\n",
       "      <td>47</td>\n",
       "      <td>5</td>\n",
       "    </tr>\n",
       "    <tr>\n",
       "      <th>19:00</th>\n",
       "      <td>896</td>\n",
       "      <td>806</td>\n",
       "      <td>563</td>\n",
       "      <td>295</td>\n",
       "      <td>119</td>\n",
       "      <td>35</td>\n",
       "      <td>7</td>\n",
       "    </tr>\n",
       "    <tr>\n",
       "      <th>20:00</th>\n",
       "      <td>887</td>\n",
       "      <td>808</td>\n",
       "      <td>566</td>\n",
       "      <td>354</td>\n",
       "      <td>125</td>\n",
       "      <td>50</td>\n",
       "      <td>8</td>\n",
       "    </tr>\n",
       "    <tr>\n",
       "      <th>21:00</th>\n",
       "      <td>948</td>\n",
       "      <td>827</td>\n",
       "      <td>598</td>\n",
       "      <td>294</td>\n",
       "      <td>109</td>\n",
       "      <td>36</td>\n",
       "      <td>7</td>\n",
       "    </tr>\n",
       "    <tr>\n",
       "      <th>22:00</th>\n",
       "      <td>968</td>\n",
       "      <td>850</td>\n",
       "      <td>627</td>\n",
       "      <td>351</td>\n",
       "      <td>128</td>\n",
       "      <td>48</td>\n",
       "      <td>7</td>\n",
       "    </tr>\n",
       "    <tr>\n",
       "      <th>23:00</th>\n",
       "      <td>900</td>\n",
       "      <td>836</td>\n",
       "      <td>665</td>\n",
       "      <td>336</td>\n",
       "      <td>125</td>\n",
       "      <td>44</td>\n",
       "      <td>6</td>\n",
       "    </tr>\n",
       "  </tbody>\n",
       "</table>\n",
       "</div>"
      ],
      "text/plain": [
       "ADistance  (2.0, 3.0]  (3.0, 4.0]  (4.0, 5.0]  (5.0, 6.0]  (6.0, 7.0]  \\\n",
       "0:00              916         760         559         278         107   \n",
       "7:00              890         728         580         306         114   \n",
       "8:00              844         798         524         299         120   \n",
       "9:00              882         743         548         326         126   \n",
       "10:00             859         816         533         315         146   \n",
       "11:00             868         789         585         298         107   \n",
       "12:00             884         805         594         311         123   \n",
       "13:00             897         803         549         355         138   \n",
       "14:00             898         757         559         336         142   \n",
       "15:00             895         748         600         321         121   \n",
       "16:00             883         767         558         334         118   \n",
       "17:00             903         804         581         302         124   \n",
       "18:00             943         799         566         305         124   \n",
       "19:00             896         806         563         295         119   \n",
       "20:00             887         808         566         354         125   \n",
       "21:00             948         827         598         294         109   \n",
       "22:00             968         850         627         351         128   \n",
       "23:00             900         836         665         336         125   \n",
       "\n",
       "ADistance  (7.0, 8.0]  (8.0, 9.0]  \n",
       "0:00               34           4  \n",
       "7:00               32           4  \n",
       "8:00               42           6  \n",
       "9:00               40           6  \n",
       "10:00              48           5  \n",
       "11:00              28           9  \n",
       "12:00              44          15  \n",
       "13:00              42           9  \n",
       "14:00              41           8  \n",
       "15:00              31           5  \n",
       "16:00              38          16  \n",
       "17:00              44           9  \n",
       "18:00              47           5  \n",
       "19:00              35           7  \n",
       "20:00              50           8  \n",
       "21:00              36           7  \n",
       "22:00              48           7  \n",
       "23:00              44           6  "
      ]
     },
     "execution_count": 4,
     "metadata": {},
     "output_type": "execute_result"
    }
   ],
   "source": [
    "hour_length_freq = pd.crosstab(\n",
    "    index=tragitti['Hour'],\n",
    "    columns=pd.cut(tragitti[distance_param], bins=gbins))\n",
    "\n",
    "hour_length_freq.index = myindex\n",
    "hour_length_freq"
   ]
  },
  {
   "cell_type": "code",
   "execution_count": 5,
   "metadata": {
    "scrolled": true
   },
   "outputs": [
    {
     "data": {
      "image/png": "[encoded data removed]",
      "text/plain": [
       "<matplotlib.figure.Figure at 0x7f8226590710>"
      ]
     },
     "metadata": {},
     "output_type": "display_data"
    }
   ],
   "source": [
    "hour_length_freq.plot.bar(stacked=True)\n",
    "plt.show()"
   ]
  },
  {
   "cell_type": "code",
   "execution_count": 6,
   "metadata": {},
   "outputs": [
    {
     "data": {
      "image/png": "[encoded data removed]",
      "text/plain": [
       "<matplotlib.figure.Figure at 0x7f82288da790>"
      ]
     },
     "metadata": {},
     "output_type": "display_data"
    }
   ],
   "source": [
    "tragitti[distance_param].plot.box(vert=False, whis='range')\n",
    "plt.show()"
   ]
  },
  {
   "cell_type": "code",
   "execution_count": 7,
   "metadata": {},
   "outputs": [
    {
     "data": {
      "text/html": [
       "<div>\n",
       "<style>\n",
       "    .dataframe thead tr:only-child th {\n",
       "        text-align: right;\n",
       "    }\n",
       "\n",
       "    .dataframe thead th {\n",
       "        text-align: left;\n",
       "    }\n",
       "\n",
       "    .dataframe tbody tr th {\n",
       "        vertical-align: top;\n",
       "    }\n",
       "</style>\n",
       "<table border=\"1\" class=\"dataframe\">\n",
       "  <thead>\n",
       "    <tr style=\"text-align: right;\">\n",
       "      <th>col_0</th>\n",
       "      <th>%</th>\n",
       "    </tr>\n",
       "    <tr>\n",
       "      <th>ADistance</th>\n",
       "      <th></th>\n",
       "    </tr>\n",
       "  </thead>\n",
       "  <tbody>\n",
       "    <tr>\n",
       "      <th>(2.0, 3.0]</th>\n",
       "      <td>32.61</td>\n",
       "    </tr>\n",
       "    <tr>\n",
       "      <th>(3.0, 4.0]</th>\n",
       "      <td>28.75</td>\n",
       "    </tr>\n",
       "    <tr>\n",
       "      <th>(4.0, 5.0]</th>\n",
       "      <td>20.90</td>\n",
       "    </tr>\n",
       "    <tr>\n",
       "      <th>(5.0, 6.0]</th>\n",
       "      <td>11.54</td>\n",
       "    </tr>\n",
       "    <tr>\n",
       "      <th>(6.0, 7.0]</th>\n",
       "      <td>4.47</td>\n",
       "    </tr>\n",
       "    <tr>\n",
       "      <th>(7.0, 8.0]</th>\n",
       "      <td>1.46</td>\n",
       "    </tr>\n",
       "    <tr>\n",
       "      <th>(8.0, 9.0]</th>\n",
       "      <td>0.27</td>\n",
       "    </tr>\n",
       "  </tbody>\n",
       "</table>\n",
       "</div>"
      ],
      "text/plain": [
       "col_0           %\n",
       "ADistance        \n",
       "(2.0, 3.0]  32.61\n",
       "(3.0, 4.0]  28.75\n",
       "(4.0, 5.0]  20.90\n",
       "(5.0, 6.0]  11.54\n",
       "(6.0, 7.0]   4.47\n",
       "(7.0, 8.0]   1.46\n",
       "(8.0, 9.0]   0.27"
      ]
     },
     "execution_count": 7,
     "metadata": {},
     "output_type": "execute_result"
    }
   ],
   "source": [
    "length_hour_freq = pd.crosstab(\n",
    "    index=pd.cut(tragitti[distance_param], bins=gbins),\n",
    "    columns='%')\n",
    "\n",
    "(length_hour_freq / sum(length_hour_freq.values)) \\\n",
    "    .apply(lambda p: np.round(p, 4)*100)"
   ]
  },
  {
   "cell_type": "code",
   "execution_count": 8,
   "metadata": {
    "scrolled": true
   },
   "outputs": [
    {
     "data": {
      "image/png": "[encoded data removed]",
      "text/plain": [
       "<matplotlib.figure.Figure at 0x7f8226316c90>"
      ]
     },
     "metadata": {},
     "output_type": "display_data"
    }
   ],
   "source": [
    "length_hour_freq.plot.pie('%', legend=False)\n",
    "plt.axis('equal')\n",
    "plt.show()"
   ]
  }
 ],
 "metadata": {
  "kernelspec": {
   "display_name": "Python 2",
   "language": "python",
   "name": "python2"
  },
  "language_info": {
   "codemirror_mode": {
    "name": "ipython",
    "version": 2
   },
   "file_extension": ".py",
   "mimetype": "text/x-python",
   "name": "python",
   "nbconvert_exporter": "python",
   "pygments_lexer": "ipython2",
   "version": "2.7.14"
  }
 },
 "nbformat": 4,
 "nbformat_minor": 2
}
