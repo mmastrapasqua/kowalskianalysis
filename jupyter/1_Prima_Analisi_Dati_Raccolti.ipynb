{
 "cells": [
  {
   "cell_type": "code",
   "execution_count": 1,
   "metadata": {
    "collapsed": true
   },
   "outputs": [],
   "source": [
    "%matplotlib inline\n",
    "\n",
    "import numpy as np\n",
    "import pandas as pd\n",
    "import matplotlib.pyplot as plt\n",
    "\n",
    "plt.style.use('fivethirtyeight')"
   ]
  },
  {
   "cell_type": "code",
   "execution_count": 2,
   "metadata": {
    "collapsed": true
   },
   "outputs": [],
   "source": [
    "# VARIABILI\n",
    "csvfile = 'csv/alldata.csv'\n",
    "distance_param = 'CDistance'"
   ]
  },
  {
   "cell_type": "code",
   "execution_count": 3,
   "metadata": {},
   "outputs": [
    {
     "data": {
      "text/plain": [
       "132650"
      ]
     },
     "execution_count": 3,
     "metadata": {},
     "output_type": "execute_result"
    }
   ],
   "source": [
    "tragitti = pd.read_csv(csvfile, index_col=False)\n",
    "len(tragitti)"
   ]
  },
  {
   "cell_type": "code",
   "execution_count": 4,
   "metadata": {
    "collapsed": true
   },
   "outputs": [],
   "source": [
    "# PULIZIA DATI\n",
    "pre_lock_cond = (tragitti['Month'] == 3) & (tragitti['Day'] < 13)\n",
    "post_lock_cond = ((tragitti['Month'] == 5) & (tragitti['Day'] >= 4)) | (tragitti['Month'] > 5)\n",
    "\n",
    "distance_cond = tragitti[distance_param] != 0\n",
    "public_cond = tragitti['Public'] != 0\n",
    "bike_cond = tragitti['Bike'] != 0\n",
    "foot_cond = tragitti['Foot'] != 0\n",
    "car_cond = tragitti['Car'] != 0\n",
    "car2go_cond = tragitti['Car2Go'] != 0\n",
    "enjoy_cond = tragitti['Enjoy'] != 0\n",
    "coherence_cond = (tragitti['Car'] <= tragitti['Car2Go']) & (tragitti['Car'] <= tragitti['Enjoy'])\n",
    "\n",
    "cleaned = distance_cond & public_cond & bike_cond & foot_cond & car_cond & car2go_cond & enjoy_cond & coherence_cond"
   ]
  },
  {
   "cell_type": "code",
   "execution_count": 5,
   "metadata": {
    "scrolled": true
   },
   "outputs": [
    {
     "data": {
      "text/html": [
       "<div>\n",
       "<style>\n",
       "    .dataframe thead tr:only-child th {\n",
       "        text-align: right;\n",
       "    }\n",
       "\n",
       "    .dataframe thead th {\n",
       "        text-align: left;\n",
       "    }\n",
       "\n",
       "    .dataframe tbody tr th {\n",
       "        vertical-align: top;\n",
       "    }\n",
       "</style>\n",
       "<table border=\"1\" class=\"dataframe\">\n",
       "  <thead>\n",
       "    <tr style=\"text-align: right;\">\n",
       "      <th></th>\n",
       "      <th>Tragitti</th>\n",
       "      <th>%</th>\n",
       "    </tr>\n",
       "  </thead>\n",
       "  <tbody>\n",
       "    <tr>\n",
       "      <th>Coerenti</th>\n",
       "      <td>100255</td>\n",
       "      <td>75.6</td>\n",
       "    </tr>\n",
       "    <tr>\n",
       "      <th>Errati</th>\n",
       "      <td>32395</td>\n",
       "      <td>24.4</td>\n",
       "    </tr>\n",
       "  </tbody>\n",
       "</table>\n",
       "</div>"
      ],
      "text/plain": [
       "          Tragitti     %\n",
       "Coerenti    100255  75.6\n",
       "Errati       32395  24.4"
      ]
     },
     "execution_count": 5,
     "metadata": {},
     "output_type": "execute_result"
    }
   ],
   "source": [
    "resume = pd.DataFrame([len(tragitti[cleaned]), len(tragitti) - len(tragitti[cleaned])], index=['Coerenti', 'Errati'], columns=['Tragitti'])\n",
    "resume.insert(1, \"%\", (resume['Tragitti'] / len(tragitti)).apply(lambda p: np.round(p, 3) * 100))\n",
    "resume"
   ]
  },
  {
   "cell_type": "code",
   "execution_count": 6,
   "metadata": {},
   "outputs": [
    {
     "data": {
      "text/plain": [
       "132650"
      ]
     },
     "execution_count": 6,
     "metadata": {},
     "output_type": "execute_result"
    }
   ],
   "source": [
    "resume['Tragitti'].sum()"
   ]
  },
  {
   "cell_type": "code",
   "execution_count": 7,
   "metadata": {},
   "outputs": [
    {
     "data": {
      "text/html": [
       "<div>\n",
       "<style>\n",
       "    .dataframe thead tr:only-child th {\n",
       "        text-align: right;\n",
       "    }\n",
       "\n",
       "    .dataframe thead th {\n",
       "        text-align: left;\n",
       "    }\n",
       "\n",
       "    .dataframe tbody tr th {\n",
       "        vertical-align: top;\n",
       "    }\n",
       "</style>\n",
       "<table border=\"1\" class=\"dataframe\">\n",
       "  <thead>\n",
       "    <tr style=\"text-align: right;\">\n",
       "      <th></th>\n",
       "      <th>Lat</th>\n",
       "      <th>Lon</th>\n",
       "      <th>Elat</th>\n",
       "      <th>Elon</th>\n",
       "      <th>ADistance</th>\n",
       "      <th>FDistance</th>\n",
       "      <th>Year</th>\n",
       "      <th>Month</th>\n",
       "      <th>Day</th>\n",
       "      <th>Hour</th>\n",
       "      <th>...</th>\n",
       "      <th>Public</th>\n",
       "      <th>Public2</th>\n",
       "      <th>Bike</th>\n",
       "      <th>Foot</th>\n",
       "      <th>Car</th>\n",
       "      <th>Car2Go</th>\n",
       "      <th>Enjoy</th>\n",
       "      <th>Car2GoFreeCars</th>\n",
       "      <th>EnjoyFreeCars</th>\n",
       "      <th>CDistance</th>\n",
       "    </tr>\n",
       "  </thead>\n",
       "  <tbody>\n",
       "    <tr>\n",
       "      <th>0</th>\n",
       "      <td>45.456874</td>\n",
       "      <td>9.192479</td>\n",
       "      <td>45.466613</td>\n",
       "      <td>9.162302</td>\n",
       "      <td>2.590586</td>\n",
       "      <td>3.0757</td>\n",
       "      <td>2020</td>\n",
       "      <td>3</td>\n",
       "      <td>1</td>\n",
       "      <td>14</td>\n",
       "      <td>...</td>\n",
       "      <td>26</td>\n",
       "      <td>25</td>\n",
       "      <td>17</td>\n",
       "      <td>41</td>\n",
       "      <td>11</td>\n",
       "      <td>18</td>\n",
       "      <td>20</td>\n",
       "      <td>0</td>\n",
       "      <td>0</td>\n",
       "      <td>4.5109</td>\n",
       "    </tr>\n",
       "    <tr>\n",
       "      <th>1</th>\n",
       "      <td>45.443547</td>\n",
       "      <td>9.221649</td>\n",
       "      <td>45.493858</td>\n",
       "      <td>9.193874</td>\n",
       "      <td>5.998687</td>\n",
       "      <td>7.4549</td>\n",
       "      <td>2020</td>\n",
       "      <td>3</td>\n",
       "      <td>1</td>\n",
       "      <td>14</td>\n",
       "      <td>...</td>\n",
       "      <td>28</td>\n",
       "      <td>28</td>\n",
       "      <td>32</td>\n",
       "      <td>100</td>\n",
       "      <td>18</td>\n",
       "      <td>22</td>\n",
       "      <td>23</td>\n",
       "      <td>0</td>\n",
       "      <td>0</td>\n",
       "      <td>7.6222</td>\n",
       "    </tr>\n",
       "    <tr>\n",
       "      <th>2</th>\n",
       "      <td>45.438958</td>\n",
       "      <td>9.210132</td>\n",
       "      <td>45.457248</td>\n",
       "      <td>9.145681</td>\n",
       "      <td>5.423275</td>\n",
       "      <td>6.8699</td>\n",
       "      <td>2020</td>\n",
       "      <td>3</td>\n",
       "      <td>1</td>\n",
       "      <td>14</td>\n",
       "      <td>...</td>\n",
       "      <td>46</td>\n",
       "      <td>40</td>\n",
       "      <td>32</td>\n",
       "      <td>92</td>\n",
       "      <td>15</td>\n",
       "      <td>20</td>\n",
       "      <td>21</td>\n",
       "      <td>0</td>\n",
       "      <td>0</td>\n",
       "      <td>7.7248</td>\n",
       "    </tr>\n",
       "    <tr>\n",
       "      <th>3</th>\n",
       "      <td>45.501460</td>\n",
       "      <td>9.159139</td>\n",
       "      <td>45.483233</td>\n",
       "      <td>9.150038</td>\n",
       "      <td>2.147214</td>\n",
       "      <td>3.6060</td>\n",
       "      <td>2020</td>\n",
       "      <td>3</td>\n",
       "      <td>1</td>\n",
       "      <td>14</td>\n",
       "      <td>...</td>\n",
       "      <td>18</td>\n",
       "      <td>63</td>\n",
       "      <td>17</td>\n",
       "      <td>48</td>\n",
       "      <td>7</td>\n",
       "      <td>11</td>\n",
       "      <td>12</td>\n",
       "      <td>0</td>\n",
       "      <td>0</td>\n",
       "      <td>3.8504</td>\n",
       "    </tr>\n",
       "    <tr>\n",
       "      <th>4</th>\n",
       "      <td>45.477417</td>\n",
       "      <td>9.207572</td>\n",
       "      <td>45.495283</td>\n",
       "      <td>9.149533</td>\n",
       "      <td>4.941203</td>\n",
       "      <td>5.7325</td>\n",
       "      <td>2020</td>\n",
       "      <td>3</td>\n",
       "      <td>1</td>\n",
       "      <td>14</td>\n",
       "      <td>...</td>\n",
       "      <td>36</td>\n",
       "      <td>49</td>\n",
       "      <td>24</td>\n",
       "      <td>77</td>\n",
       "      <td>13</td>\n",
       "      <td>18</td>\n",
       "      <td>17</td>\n",
       "      <td>0</td>\n",
       "      <td>0</td>\n",
       "      <td>5.8768</td>\n",
       "    </tr>\n",
       "  </tbody>\n",
       "</table>\n",
       "<p>5 rows × 22 columns</p>\n",
       "</div>"
      ],
      "text/plain": [
       "         Lat       Lon       Elat      Elon  ADistance  FDistance  Year  \\\n",
       "0  45.456874  9.192479  45.466613  9.162302   2.590586     3.0757  2020   \n",
       "1  45.443547  9.221649  45.493858  9.193874   5.998687     7.4549  2020   \n",
       "2  45.438958  9.210132  45.457248  9.145681   5.423275     6.8699  2020   \n",
       "3  45.501460  9.159139  45.483233  9.150038   2.147214     3.6060  2020   \n",
       "4  45.477417  9.207572  45.495283  9.149533   4.941203     5.7325  2020   \n",
       "\n",
       "   Month  Day  Hour    ...      Public  Public2  Bike  Foot  Car  Car2Go  \\\n",
       "0      3    1    14    ...          26       25    17    41   11      18   \n",
       "1      3    1    14    ...          28       28    32   100   18      22   \n",
       "2      3    1    14    ...          46       40    32    92   15      20   \n",
       "3      3    1    14    ...          18       63    17    48    7      11   \n",
       "4      3    1    14    ...          36       49    24    77   13      18   \n",
       "\n",
       "   Enjoy  Car2GoFreeCars  EnjoyFreeCars  CDistance  \n",
       "0     20               0              0     4.5109  \n",
       "1     23               0              0     7.6222  \n",
       "2     21               0              0     7.7248  \n",
       "3     12               0              0     3.8504  \n",
       "4     17               0              0     5.8768  \n",
       "\n",
       "[5 rows x 22 columns]"
      ]
     },
     "execution_count": 7,
     "metadata": {},
     "output_type": "execute_result"
    }
   ],
   "source": [
    "tragitti.head()"
   ]
  },
  {
   "cell_type": "code",
   "execution_count": 8,
   "metadata": {
    "collapsed": true
   },
   "outputs": [],
   "source": [
    "# Velocita' media durante il giorno\n",
    "def vmedia_giorno(df, mezzo):\n",
    "    ore = range(7, 24)\n",
    "    vmedia_giorno_ore = []\n",
    "    for ora in ore:\n",
    "        tragitti_fascia_oraria = df[df['Hour'] == ora]\n",
    "        velocita_media_oraria = (tragitti_fascia_oraria[distance_param] * 60.) / tragitti_fascia_oraria[mezzo]\n",
    "        vmedia_giorno_ore.append(velocita_media_oraria.mean())\n",
    "    return vmedia_giorno_ore"
   ]
  },
  {
   "cell_type": "code",
   "execution_count": 9,
   "metadata": {},
   "outputs": [
    {
     "data": {
      "image/png": "[encoded data removed]",
      "text/plain": [
       "<matplotlib.figure.Figure at 0x7fe91d89f110>"
      ]
     },
     "metadata": {},
     "output_type": "display_data"
    }
   ],
   "source": [
    "df = pd.DataFrame(vmedia_giorno(tragitti[pre_lock_cond & car_cond], 'Car'), index=range(7, 24), columns=['V. media'])\n",
    "df.plot(marker='o', legend=False, color='red')\n",
    "plt.xticks(np.arange(7, 24, 1))\n",
    "plt.yticks(np.arange(int(min(df.values)), int(max(df.values)) + 1, 1))\n",
    "plt.xlabel('Ora del giorno [h]')\n",
    "plt.ylabel('Velocita media [km/h]')\n",
    "plt.show()"
   ]
  },
  {
   "cell_type": "code",
   "execution_count": null,
   "metadata": {
    "collapsed": true
   },
   "outputs": [],
   "source": []
  }
 ],
 "metadata": {
  "kernelspec": {
   "display_name": "Python 2",
   "language": "python",
   "name": "python2"
  },
  "language_info": {
   "codemirror_mode": {
    "name": "ipython",
    "version": 2
   },
   "file_extension": ".py",
   "mimetype": "text/x-python",
   "name": "python",
   "nbconvert_exporter": "python",
   "pygments_lexer": "ipython2",
   "version": "2.7.14"
  }
 },
 "nbformat": 4,
 "nbformat_minor": 2
}
