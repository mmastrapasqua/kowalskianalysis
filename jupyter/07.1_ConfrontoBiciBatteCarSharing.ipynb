{
 "cells": [
  {
   "cell_type": "code",
   "execution_count": 1,
   "metadata": {
    "collapsed": true
   },
   "outputs": [],
   "source": [
    "%matplotlib inline\n",
    "import numpy as np\n",
    "import pandas as pd\n",
    "import matplotlib.pyplot as plt\n",
    "\n",
    "from scipy.constants import golden\n",
    "plt.style.use('default')\n",
    "plt.rc('figure', figsize=((5.0, 5.0 / golden)))\n",
    "\n",
    "# VARIABILI\n",
    "csvfile = 'csv/alldata.csv'\n",
    "distance_param = 'FDistance'\n",
    "myindex = [\n",
    "    '0:00', '7:00', '8:00', '9:00', '10:00',\n",
    "    '11:00', '12:00', '13:00', '14:00',\n",
    "    '15:00','16:00', '17:00', '18:00',\n",
    "    '19:00', '20:00', '21:00', '22:00',\n",
    "    '23:00']\n",
    "\n",
    "# LETTURA DATI\n",
    "tragitti = pd.read_csv(csvfile, index_col=False)\n",
    "pre_lock_cond = (tragitti['Month'] == 3) & (tragitti['Day'] <= 12)\n",
    "post_lock_cond = ((tragitti['Month'] == 5) & (tragitti['Day'] >= 4)) | (tragitti['Month'] > 5)\n",
    "tragitti = tragitti[post_lock_cond]\n",
    "\n",
    "def clean(df):\n",
    "    distance_cond = df[distance_param] > 0\n",
    "    moovit_cond = df['Public'] > 12\n",
    "    public_cond = df['Public'] > 0\n",
    "    bike_cond = df['Bike'] > 0\n",
    "    foot_cond = df['Foot'] > 0\n",
    "    car_cond = df['Car'] > 0\n",
    "    car2go_cond = df['Car2Go'] > 0\n",
    "    enjoy_cond = df['Enjoy'] > 0\n",
    "    coherence_cond = (df['Car'] <= df['Car2Go']) & (df['Car'] <= df['Enjoy'])\n",
    "    cleaned = distance_cond & public_cond & bike_cond & foot_cond & car_cond & car2go_cond & enjoy_cond & coherence_cond\n",
    "    return cleaned"
   ]
  },
  {
   "cell_type": "code",
   "execution_count": 2,
   "metadata": {},
   "outputs": [
    {
     "data": {
      "text/plain": [
       "17917"
      ]
     },
     "execution_count": 2,
     "metadata": {},
     "output_type": "execute_result"
    }
   ],
   "source": [
    "tragitti = tragitti[clean(tragitti)]\n",
    "\n",
    "tragitti = tragitti[tragitti[distance_param] >= 2.]\n",
    "bike_batte_car = tragitti[tragitti['Bike'] <= tragitti['Enjoy']][[distance_param, 'Month', 'Day', 'Hour', 'Minute', 'Public', 'Car']]\n",
    "len(bike_batte_car)"
   ]
  },
  {
   "cell_type": "code",
   "execution_count": 3,
   "metadata": {
    "scrolled": true
   },
   "outputs": [
    {
     "data": {
      "text/html": [
       "<div>\n",
       "<style>\n",
       "    .dataframe thead tr:only-child th {\n",
       "        text-align: right;\n",
       "    }\n",
       "\n",
       "    .dataframe thead th {\n",
       "        text-align: left;\n",
       "    }\n",
       "\n",
       "    .dataframe tbody tr th {\n",
       "        vertical-align: top;\n",
       "    }\n",
       "</style>\n",
       "<table border=\"1\" class=\"dataframe\">\n",
       "  <thead>\n",
       "    <tr style=\"text-align: right;\">\n",
       "      <th>col_0</th>\n",
       "      <th>Abs. freq.</th>\n",
       "      <th>% sul tot.</th>\n",
       "    </tr>\n",
       "    <tr>\n",
       "      <th>FDistance</th>\n",
       "      <th></th>\n",
       "      <th></th>\n",
       "    </tr>\n",
       "  </thead>\n",
       "  <tbody>\n",
       "    <tr>\n",
       "      <th>(2.0, 5.0]</th>\n",
       "      <td>15215</td>\n",
       "      <td>30.7</td>\n",
       "    </tr>\n",
       "    <tr>\n",
       "      <th>(5.0, 7.0]</th>\n",
       "      <td>2423</td>\n",
       "      <td>4.9</td>\n",
       "    </tr>\n",
       "    <tr>\n",
       "      <th>(7.0, 10.0]</th>\n",
       "      <td>278</td>\n",
       "      <td>0.6</td>\n",
       "    </tr>\n",
       "  </tbody>\n",
       "</table>\n",
       "</div>"
      ],
      "text/plain": [
       "col_0        Abs. freq.  % sul tot.\n",
       "FDistance                          \n",
       "(2.0, 5.0]        15215        30.7\n",
       "(5.0, 7.0]         2423         4.9\n",
       "(7.0, 10.0]         278         0.6"
      ]
     },
     "execution_count": 3,
     "metadata": {},
     "output_type": "execute_result"
    }
   ],
   "source": [
    "resume_on_distance = pd.crosstab(\n",
    "    index=pd.cut(bike_batte_car[distance_param], bins=[2., 5., 7., 10.]),\n",
    "    columns='Abs. freq.')\n",
    "\n",
    "resume_on_distance.insert(1, '% sul tot.', (resume_on_distance['Abs. freq.'] / len(tragitti)).apply(lambda p: np.round(p, 3) * 100))\n",
    "resume_on_distance"
   ]
  },
  {
   "cell_type": "code",
   "execution_count": 4,
   "metadata": {
    "scrolled": true
   },
   "outputs": [
    {
     "data": {
      "image/png": "[encoded data removed]",
      "text/plain": [
       "<matplotlib.figure.Figure at 0x7fd4c84edc10>"
      ]
     },
     "metadata": {},
     "output_type": "display_data"
    }
   ],
   "source": [
    "resume = pd.DataFrame(\n",
    "    [len(bike_batte_car), len(tragitti) - len(bike_batte_car)],\n",
    "    index=['Vittoria', 'Sconfitta'], columns=['Bici batte CarSharing'])\n",
    "resume.plot.pie('Bici batte CarSharing', colors=['green', 'red'], legend=False)\n",
    "plt.axis('equal')\n",
    "plt.show()"
   ]
  },
  {
   "cell_type": "code",
   "execution_count": 5,
   "metadata": {},
   "outputs": [
    {
     "data": {
      "text/html": [
       "<div>\n",
       "<style>\n",
       "    .dataframe thead tr:only-child th {\n",
       "        text-align: right;\n",
       "    }\n",
       "\n",
       "    .dataframe thead th {\n",
       "        text-align: left;\n",
       "    }\n",
       "\n",
       "    .dataframe tbody tr th {\n",
       "        vertical-align: top;\n",
       "    }\n",
       "</style>\n",
       "<table border=\"1\" class=\"dataframe\">\n",
       "  <thead>\n",
       "    <tr style=\"text-align: right;\">\n",
       "      <th></th>\n",
       "      <th>Bici batte CarSharing</th>\n",
       "      <th>%</th>\n",
       "    </tr>\n",
       "  </thead>\n",
       "  <tbody>\n",
       "    <tr>\n",
       "      <th>Vittoria</th>\n",
       "      <td>17917</td>\n",
       "      <td>36.2</td>\n",
       "    </tr>\n",
       "    <tr>\n",
       "      <th>Sconfitta</th>\n",
       "      <td>31643</td>\n",
       "      <td>63.8</td>\n",
       "    </tr>\n",
       "  </tbody>\n",
       "</table>\n",
       "</div>"
      ],
      "text/plain": [
       "           Bici batte CarSharing     %\n",
       "Vittoria                   17917  36.2\n",
       "Sconfitta                  31643  63.8"
      ]
     },
     "execution_count": 5,
     "metadata": {},
     "output_type": "execute_result"
    }
   ],
   "source": [
    "resume.insert(1, '%', (resume['Bici batte CarSharing'] / len(tragitti)).apply(lambda p: np.round(p, 3) * 100))\n",
    "resume"
   ]
  },
  {
   "cell_type": "code",
   "execution_count": 6,
   "metadata": {},
   "outputs": [
    {
     "data": {
      "image/png": "[encoded data removed]",
      "text/plain": [
       "<matplotlib.figure.Figure at 0x7fd497c943d0>"
      ]
     },
     "metadata": {},
     "output_type": "display_data"
    }
   ],
   "source": [
    "rel_freq = (bike_batte_car['Hour'].value_counts().sort_index() / tragitti['Hour'].value_counts().sort_index()) \\\n",
    ".apply(lambda x: np.round(x, 2))\n",
    "       \n",
    "rel_freq_df = pd.DataFrame(rel_freq.values, index=myindex)\n",
    "rel_freq_df.plot(legend=False)\n",
    "plt.yticks(np.arange(0.25, 0.5, 0.05))\n",
    "plt.xlabel('orario')\n",
    "plt.ylabel('Rel. freq. bici batte Enjoy')\n",
    "plt.show()"
   ]
  }
 ],
 "metadata": {
  "kernelspec": {
   "display_name": "Python 2",
   "language": "python",
   "name": "python2"
  },
  "language_info": {
   "codemirror_mode": {
    "name": "ipython",
    "version": 2
   },
   "file_extension": ".py",
   "mimetype": "text/x-python",
   "name": "python",
   "nbconvert_exporter": "python",
   "pygments_lexer": "ipython2",
   "version": "2.7.14"
  }
 },
 "nbformat": 4,
 "nbformat_minor": 2
}
