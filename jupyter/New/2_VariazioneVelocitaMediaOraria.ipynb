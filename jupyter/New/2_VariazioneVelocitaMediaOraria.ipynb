{
 "cells": [
  {
   "cell_type": "code",
   "execution_count": 1,
   "metadata": {
    "collapsed": true
   },
   "outputs": [],
   "source": [
    "%matplotlib inline\n",
    "import numpy as np\n",
    "import pandas as pd\n",
    "import matplotlib.pyplot as plt\n",
    "from scipy.constants import golden\n",
    "plt.style.use('default')"
   ]
  },
  {
   "cell_type": "code",
   "execution_count": 2,
   "metadata": {
    "collapsed": true
   },
   "outputs": [],
   "source": [
    "csvfile = '../csv/alldata.csv'\n",
    "distance_param = 'CDistance'\n",
    "tragitti = pd.read_csv(csvfile, index_col=False)\n",
    "\n",
    "pre_lock_cond = (tragitti['Month'] == 3) & (tragitti['Day'] < 13)\n",
    "post_lock_cond = ((tragitti['Month'] == 5) & (tragitti['Day'] >= 4)) | (tragitti['Month'] > 5)\n",
    "\n",
    "def clean(df):\n",
    "    distance_cond = df[distance_param] > 0\n",
    "    moovit_cond = df['Public'] > 12\n",
    "    public_cond = df['Public'] > 0\n",
    "    bike_cond = df['Bike'] > 0\n",
    "    foot_cond = df['Foot'] > 0\n",
    "    car_cond = df['Car'] > 0\n",
    "    car2go_cond = df['Car2Go'] > 0\n",
    "    enjoy_cond = df['Enjoy'] > 0\n",
    "    coherence_cond = (df['Car'] <= df['Car2Go']) & (df['Car'] <= df['Enjoy'])\n",
    "    cleaned = distance_cond & public_cond & bike_cond & foot_cond & car_cond & car2go_cond & enjoy_cond & coherence_cond\n",
    "    return cleaned"
   ]
  },
  {
   "cell_type": "code",
   "execution_count": 3,
   "metadata": {
    "scrolled": true
   },
   "outputs": [],
   "source": [
    "tragitti = tragitti[post_lock_cond]\n",
    "tragitti = tragitti[clean(tragitti)]\n",
    "\n",
    "replace = {}\n",
    "replace['Car'] = 'Auto'\n",
    "replace['Public'] = 'ATM'\n",
    "replace['Bike'] = 'Bici'\n",
    "replace['Foot'] = 'A piedi'\n",
    "replace['Enjoy'] = 'Enjoy'\n",
    "\n",
    "def list_minus(l1, l2):\n",
    "    r = []\n",
    "    for i in range(0, len(l1)):\n",
    "        r.append(l1[i] - l2[i])\n",
    "    return r\n",
    "\n",
    "def vmedia_week(df, mezzo):    \n",
    "    lst = vmedia_week_list(df, mezzo)\n",
    "    array = np.array(lst).T\n",
    "    return pd.DataFrame(array, index=myindex, columns=[replace[mezzo]]).round(1)\n",
    "\n",
    "def vmedia_week_list(df, mezzo):    \n",
    "    return [vmedia_giorno(df, mezzo)]\n",
    "\n",
    "def vmedia_giorno(df, mezzo):\n",
    "    ore = range(7, 24)\n",
    "    vmedia_giorno_ore = []\n",
    "    for ora in ore:\n",
    "        tragitti_fascia_oraria = df[df['Hour'] == ora]\n",
    "        velocita_media_oraria = (tragitti_fascia_oraria[distance_param] * 60.) / tragitti_fascia_oraria[mezzo]\n",
    "        vmedia_giorno_ore.append(velocita_media_oraria.mean())\n",
    "    return vmedia_giorno_ore\n",
    "\n",
    "def vstd_giorno(df, mezzo):\n",
    "    ore = range(7, 24)\n",
    "    vmedia_giorno_ore = []\n",
    "    for ora in ore:\n",
    "        tragitti_fascia_oraria = df[df['Hour'] == ora]\n",
    "        velocita_media_oraria = (tragitti_fascia_oraria[distance_param] * 60.) / tragitti_fascia_oraria[mezzo]\n",
    "        vmedia_giorno_ore.append(2 * np.std(velocita_media_oraria, ddof=1))\n",
    "    return vmedia_giorno_ore\n",
    "\n",
    "def week_filters(df):\n",
    "    weeks = \\\n",
    "        ((df['Month'] == 5) & (\n",
    "            (df['Day'].between(4, 8)) |\n",
    "            (df['Day'].between(11, 15)) |\n",
    "            (df['Day'].between(18, 22)) |\n",
    "            (df['Day'].between(25, 29)))) | \\\n",
    "        ((df['Month'] == 6) & (\n",
    "            (df['Day'].between(1, 5)) |\n",
    "            (df['Day'].between(8, 12)) |\n",
    "            (df['Day'].between(15, 19)) |\n",
    "            (df['Day'].between(22, 26))))\n",
    "\n",
    "    weekends = \\\n",
    "        ((df['Month'] == 5) & (\n",
    "            (df['Day'].between(9, 10)) |\n",
    "            (df['Day'].between(16, 17)) |\n",
    "            (df['Day'].between(23, 24)) |\n",
    "            (df['Day'].between(30, 31)))) | \\\n",
    "        ((df['Month'] == 6) & (\n",
    "            (df['Day'].between(6, 7)) |\n",
    "            (df['Day'].between(13, 14)) |\n",
    "            (df['Day'].between(20, 21)) |\n",
    "            (df['Day'].between(27, 28))))\n",
    "    \n",
    "    return weeks, weekends\n",
    "\n",
    "w, we = week_filters(tragitti)"
   ]
  },
  {
   "cell_type": "code",
   "execution_count": 4,
   "metadata": {
    "scrolled": true
   },
   "outputs": [
    {
     "data": {
      "image/png": "[encoded data removed]",
      "text/plain": [
       "<matplotlib.figure.Figure at 0x7fe40b5b6a50>"
      ]
     },
     "metadata": {},
     "output_type": "display_data"
    },
    {
     "data": {
      "text/plain": [
       "count    49560.000000\n",
       "mean        23.838455\n",
       "std          3.970546\n",
       "min          8.912400\n",
       "25%         21.171049\n",
       "50%         23.715333\n",
       "75%         26.321036\n",
       "max         59.076545\n",
       "dtype: float64"
      ]
     },
     "execution_count": 4,
     "metadata": {},
     "output_type": "execute_result"
    }
   ],
   "source": [
    "colori = ['slategray', 'firebrick', 'darkorange', 'limegreen', 'slateblue']\n",
    "myindex = [\n",
    "    '7:00', '8:00', '9:00', '10:00',\n",
    "    '11:00', '12:00', '13:00', '14:00',\n",
    "    '15:00','16:00', '17:00', '18:00',\n",
    "    '19:00', '20:00', '21:00', '22:00',\n",
    "    '23:00']\n",
    "plterrindex = [\n",
    "    '10:00', '11:00', '12:00', '13:00',\n",
    "    '14:00', '15:00','16:00', '17:00',\n",
    "    '18:00', '19:00', '20:00', '21:00',\n",
    "    '22:00', '23:00', '7:00', '8:00',\n",
    "    '9:00'] # pyplot stupido\n",
    "\n",
    "vmedia_week(tragitti, 'Car').plot.bar(width=0.9, align='center', color=colori[0])\n",
    "plt.xlabel('orario')\n",
    "plt.ylabel('velocita\\' media [km/h]')\n",
    "plt.legend(bbox_to_anchor=(1.05, 1), loc='upper left', fontsize='small')\n",
    "\n",
    "# errori\n",
    "x = plterrindex\n",
    "y = vmedia_week_list(tragitti, 'Car')[0]\n",
    "dy = np.round(vstd_giorno(tragitti, 'Car'), 1).tolist()\n",
    "plt.errorbar(x, y, yerr=dy, lw=1.5, fmt='.k', color='black', ecolor='blue', capsize=3)\n",
    "\n",
    "plt.yticks(range(0, 35, 2))\n",
    "plt.show()\n",
    "\n",
    "velocita_media = (tragitti[distance_param] * 60.) / tragitti['Car']\n",
    "velocita_media.describe()"
   ]
  },
  {
   "cell_type": "code",
   "execution_count": null,
   "metadata": {
    "collapsed": true
   },
   "outputs": [],
   "source": []
  }
 ],
 "metadata": {
  "kernelspec": {
   "display_name": "Python 2",
   "language": "python",
   "name": "python2"
  },
  "language_info": {
   "codemirror_mode": {
    "name": "ipython",
    "version": 2
   },
   "file_extension": ".py",
   "mimetype": "text/x-python",
   "name": "python",
   "nbconvert_exporter": "python",
   "pygments_lexer": "ipython2",
   "version": "2.7.14"
  }
 },
 "nbformat": 4,
 "nbformat_minor": 2
}
