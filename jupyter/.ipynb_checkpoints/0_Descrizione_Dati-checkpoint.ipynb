{
 "cells": [
  {
   "cell_type": "code",
   "execution_count": 1,
   "metadata": {
    "collapsed": true
   },
   "outputs": [],
   "source": [
    "%matplotlib inline\n",
    "\n",
    "import numpy as np\n",
    "import pandas as pd\n",
    "import matplotlib.pyplot as plt\n",
    "from scipy.constants import golden\n",
    "\n",
    "plt.style.use('fivethirtyeight')\n",
    "plt.rc('figure', figsize=(5.0, 5.0/golden))"
   ]
  },
  {
   "cell_type": "code",
   "execution_count": 2,
   "metadata": {
    "collapsed": true
   },
   "outputs": [],
   "source": [
    "tragitti = pd.read_csv('csv/2020_from_03_01_to_03_14_moovit.csv', index_col=False)"
   ]
  },
  {
   "cell_type": "code",
   "execution_count": 3,
   "metadata": {},
   "outputs": [
    {
     "data": {
      "text/plain": [
       "11830"
      ]
     },
     "execution_count": 3,
     "metadata": {},
     "output_type": "execute_result"
    }
   ],
   "source": [
    "# Numero di tragitti simulati\n",
    "len(tragitti)"
   ]
  },
  {
   "cell_type": "code",
   "execution_count": 4,
   "metadata": {},
   "outputs": [
    {
     "data": {
      "text/html": [
       "<div>\n",
       "<style>\n",
       "    .dataframe thead tr:only-child th {\n",
       "        text-align: right;\n",
       "    }\n",
       "\n",
       "    .dataframe thead th {\n",
       "        text-align: left;\n",
       "    }\n",
       "\n",
       "    .dataframe tbody tr th {\n",
       "        vertical-align: top;\n",
       "    }\n",
       "</style>\n",
       "<table border=\"1\" class=\"dataframe\">\n",
       "  <thead>\n",
       "    <tr style=\"text-align: right;\">\n",
       "      <th></th>\n",
       "      <th>Lat</th>\n",
       "      <th>Lon</th>\n",
       "      <th>Elat</th>\n",
       "      <th>Elon</th>\n",
       "      <th>Distance</th>\n",
       "      <th>Year</th>\n",
       "      <th>Month</th>\n",
       "      <th>Day</th>\n",
       "      <th>Hour</th>\n",
       "      <th>Minute</th>\n",
       "      <th>Second</th>\n",
       "      <th>Public</th>\n",
       "      <th>Public2</th>\n",
       "      <th>Bike</th>\n",
       "      <th>Foot</th>\n",
       "      <th>Car</th>\n",
       "      <th>Car2Go</th>\n",
       "      <th>Enjoy</th>\n",
       "      <th>Car2GoFreeCars</th>\n",
       "      <th>EnjoyFreeCars</th>\n",
       "    </tr>\n",
       "  </thead>\n",
       "  <tbody>\n",
       "    <tr>\n",
       "      <th>0</th>\n",
       "      <td>45.456874</td>\n",
       "      <td>9.192479</td>\n",
       "      <td>45.466613</td>\n",
       "      <td>9.162302</td>\n",
       "      <td>2.590586</td>\n",
       "      <td>2020</td>\n",
       "      <td>3</td>\n",
       "      <td>1</td>\n",
       "      <td>14</td>\n",
       "      <td>23</td>\n",
       "      <td>11</td>\n",
       "      <td>26</td>\n",
       "      <td>25</td>\n",
       "      <td>17</td>\n",
       "      <td>41</td>\n",
       "      <td>11</td>\n",
       "      <td>18</td>\n",
       "      <td>20</td>\n",
       "      <td>0</td>\n",
       "      <td>0</td>\n",
       "    </tr>\n",
       "    <tr>\n",
       "      <th>1</th>\n",
       "      <td>45.443547</td>\n",
       "      <td>9.221649</td>\n",
       "      <td>45.493858</td>\n",
       "      <td>9.193874</td>\n",
       "      <td>5.998687</td>\n",
       "      <td>2020</td>\n",
       "      <td>3</td>\n",
       "      <td>1</td>\n",
       "      <td>14</td>\n",
       "      <td>23</td>\n",
       "      <td>11</td>\n",
       "      <td>28</td>\n",
       "      <td>28</td>\n",
       "      <td>32</td>\n",
       "      <td>100</td>\n",
       "      <td>18</td>\n",
       "      <td>22</td>\n",
       "      <td>23</td>\n",
       "      <td>0</td>\n",
       "      <td>0</td>\n",
       "    </tr>\n",
       "    <tr>\n",
       "      <th>2</th>\n",
       "      <td>45.438958</td>\n",
       "      <td>9.210132</td>\n",
       "      <td>45.457248</td>\n",
       "      <td>9.145681</td>\n",
       "      <td>5.423275</td>\n",
       "      <td>2020</td>\n",
       "      <td>3</td>\n",
       "      <td>1</td>\n",
       "      <td>14</td>\n",
       "      <td>23</td>\n",
       "      <td>11</td>\n",
       "      <td>46</td>\n",
       "      <td>40</td>\n",
       "      <td>32</td>\n",
       "      <td>92</td>\n",
       "      <td>15</td>\n",
       "      <td>20</td>\n",
       "      <td>21</td>\n",
       "      <td>0</td>\n",
       "      <td>0</td>\n",
       "    </tr>\n",
       "    <tr>\n",
       "      <th>3</th>\n",
       "      <td>45.501460</td>\n",
       "      <td>9.159139</td>\n",
       "      <td>45.483233</td>\n",
       "      <td>9.150038</td>\n",
       "      <td>2.147214</td>\n",
       "      <td>2020</td>\n",
       "      <td>3</td>\n",
       "      <td>1</td>\n",
       "      <td>14</td>\n",
       "      <td>23</td>\n",
       "      <td>11</td>\n",
       "      <td>18</td>\n",
       "      <td>63</td>\n",
       "      <td>17</td>\n",
       "      <td>48</td>\n",
       "      <td>7</td>\n",
       "      <td>11</td>\n",
       "      <td>12</td>\n",
       "      <td>0</td>\n",
       "      <td>0</td>\n",
       "    </tr>\n",
       "    <tr>\n",
       "      <th>4</th>\n",
       "      <td>45.477417</td>\n",
       "      <td>9.207572</td>\n",
       "      <td>45.495283</td>\n",
       "      <td>9.149533</td>\n",
       "      <td>4.941203</td>\n",
       "      <td>2020</td>\n",
       "      <td>3</td>\n",
       "      <td>1</td>\n",
       "      <td>14</td>\n",
       "      <td>23</td>\n",
       "      <td>11</td>\n",
       "      <td>36</td>\n",
       "      <td>49</td>\n",
       "      <td>24</td>\n",
       "      <td>77</td>\n",
       "      <td>13</td>\n",
       "      <td>18</td>\n",
       "      <td>17</td>\n",
       "      <td>0</td>\n",
       "      <td>0</td>\n",
       "    </tr>\n",
       "  </tbody>\n",
       "</table>\n",
       "</div>"
      ],
      "text/plain": [
       "         Lat       Lon       Elat      Elon  Distance  Year  Month  Day  Hour  \\\n",
       "0  45.456874  9.192479  45.466613  9.162302  2.590586  2020      3    1    14   \n",
       "1  45.443547  9.221649  45.493858  9.193874  5.998687  2020      3    1    14   \n",
       "2  45.438958  9.210132  45.457248  9.145681  5.423275  2020      3    1    14   \n",
       "3  45.501460  9.159139  45.483233  9.150038  2.147214  2020      3    1    14   \n",
       "4  45.477417  9.207572  45.495283  9.149533  4.941203  2020      3    1    14   \n",
       "\n",
       "   Minute  Second  Public  Public2  Bike  Foot  Car  Car2Go  Enjoy  \\\n",
       "0      23      11      26       25    17    41   11      18     20   \n",
       "1      23      11      28       28    32   100   18      22     23   \n",
       "2      23      11      46       40    32    92   15      20     21   \n",
       "3      23      11      18       63    17    48    7      11     12   \n",
       "4      23      11      36       49    24    77   13      18     17   \n",
       "\n",
       "   Car2GoFreeCars  EnjoyFreeCars  \n",
       "0               0              0  \n",
       "1               0              0  \n",
       "2               0              0  \n",
       "3               0              0  \n",
       "4               0              0  "
      ]
     },
     "execution_count": 4,
     "metadata": {},
     "output_type": "execute_result"
    }
   ],
   "source": [
    "tragitti.head()"
   ]
  },
  {
   "cell_type": "code",
   "execution_count": 5,
   "metadata": {},
   "outputs": [
    {
     "name": "stdout",
     "output_type": "stream",
     "text": [
      "(2, 9)\n"
     ]
    }
   ],
   "source": [
    "# Massima e minimia distanza di un tragitto\n",
    "min = int(tragitti['Distance'].min())\n",
    "max = int(tragitti['Distance'].max())\n",
    "print(min, max) # km"
   ]
  },
  {
   "cell_type": "code",
   "execution_count": 6,
   "metadata": {},
   "outputs": [
    {
     "data": {
      "image/png": "[encoded data removed]",
      "text/plain": [
       "<matplotlib.figure.Figure at 0x7fa773c46e50>"
      ]
     },
     "metadata": {},
     "output_type": "display_data"
    }
   ],
   "source": [
    "# Distribuzione in base alla lunghezza delle tratte\n",
    "tragitti['Distance'].hist(bins=np.hstack((np.arange(min, max+1, 1))))\n",
    "plt.show()"
   ]
  },
  {
   "cell_type": "code",
   "execution_count": 7,
   "metadata": {},
   "outputs": [
    {
     "data": {
      "image/png": "[encoded data removed]",
      "text/plain": [
       "<matplotlib.figure.Figure at 0x7fa771aa7110>"
      ]
     },
     "metadata": {},
     "output_type": "display_data"
    }
   ],
   "source": [
    "tragitti['Distance'].plot.box(vert=False, whis='range')\n",
    "plt.show()"
   ]
  },
  {
   "cell_type": "code",
   "execution_count": 8,
   "metadata": {},
   "outputs": [
    {
     "data": {
      "image/png": "[encoded data removed]",
      "text/plain": [
       "<matplotlib.figure.Figure at 0x7fa771a03f10>"
      ]
     },
     "metadata": {},
     "output_type": "display_data"
    }
   ],
   "source": [
    "# Verifica correttezza: correlazione tra tragitto in macchina propria (macchina) e car sharing (piedi + macchina)\n",
    "tragitti.plot.scatter('Car', 'Car2Go')\n",
    "plt.show()"
   ]
  },
  {
   "cell_type": "code",
   "execution_count": 9,
   "metadata": {
    "collapsed": true
   },
   "outputs": [],
   "source": [
    "# Mi sembra logico, col car sharing ci impiego di piu' perche' devo raggiungere la macchina a piedi e poi guidare\n",
    "# in contrasto ad avere una propria macchina sotto casa e partire diretti"
   ]
  }
 ],
 "metadata": {
  "kernelspec": {
   "display_name": "Python 2",
   "language": "python",
   "name": "python2"
  },
  "language_info": {
   "codemirror_mode": {
    "name": "ipython",
    "version": 2
   },
   "file_extension": ".py",
   "mimetype": "text/x-python",
   "name": "python",
   "nbconvert_exporter": "python",
   "pygments_lexer": "ipython2",
   "version": "2.7.14"
  }
 },
 "nbformat": 4,
 "nbformat_minor": 2
}
