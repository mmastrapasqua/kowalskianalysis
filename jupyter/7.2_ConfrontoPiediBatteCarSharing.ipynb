{
 "cells": [
  {
   "cell_type": "code",
   "execution_count": 1,
   "metadata": {
    "collapsed": true
   },
   "outputs": [],
   "source": [
    "%matplotlib inline\n",
    "import numpy as np\n",
    "import pandas as pd\n",
    "import matplotlib.pyplot as plt\n",
    "plt.style.use('fivethirtyeight')\n",
    "\n",
    "# VARIABILI\n",
    "csvfile = 'csv/alldata.csv'\n",
    "distance_param = 'CDistance'\n",
    "\n",
    "# LETTURA DATI\n",
    "tragitti = pd.read_csv(csvfile, index_col=False)\n",
    "pre_lock_cond = (tragitti['Month'] == 3) & (tragitti['Day'] <= 12)\n",
    "post_lock_cond = ((tragitti['Month'] == 5) & (tragitti['Day'] >= 4)) | (tragitti['Month'] > 5)\n",
    "tragitti = tragitti[post_lock_cond]\n",
    "\n",
    "def clean(df):\n",
    "    distance_cond = df[distance_param] > 0\n",
    "    moovit_cond = df['Public'] > 12\n",
    "    public_cond = df['Public'] > 0\n",
    "    bike_cond = df['Bike'] > 0\n",
    "    foot_cond = df['Foot'] > 0\n",
    "    car_cond = df['Car'] > 0\n",
    "    car2go_cond = df['Car2Go'] > 0\n",
    "    enjoy_cond = df['Enjoy'] > 0\n",
    "    coherence_cond = (df['Car'] <= df['Car2Go']) & (df['Car'] <= df['Enjoy'])\n",
    "    cleaned = distance_cond & public_cond & bike_cond & foot_cond & car_cond & car2go_cond & enjoy_cond & coherence_cond\n",
    "    return cleaned"
   ]
  },
  {
   "cell_type": "code",
   "execution_count": 2,
   "metadata": {},
   "outputs": [
    {
     "data": {
      "text/plain": [
       "26"
      ]
     },
     "execution_count": 2,
     "metadata": {},
     "output_type": "execute_result"
    }
   ],
   "source": [
    "tragitti = tragitti[clean(tragitti)]\n",
    "\n",
    "tragitti = tragitti[tragitti[distance_param] >= 2.]\n",
    "public_batte_car = tragitti[tragitti['Foot'] <= tragitti['Enjoy']][['FDistance', 'Month', 'Day', 'Hour', 'Minute', 'Public', 'Car']]\n",
    "len(public_batte_car)"
   ]
  },
  {
   "cell_type": "code",
   "execution_count": 3,
   "metadata": {},
   "outputs": [
    {
     "data": {
      "image/png": "[encoded data removed]",
      "text/plain": [
       "<matplotlib.figure.Figure at 0x7f094bcb6e10>"
      ]
     },
     "metadata": {},
     "output_type": "display_data"
    }
   ],
   "source": [
    "public_batte_car['Hour'].value_counts().sort_index().plot.bar()\n",
    "plt.show()"
   ]
  },
  {
   "cell_type": "code",
   "execution_count": 4,
   "metadata": {},
   "outputs": [
    {
     "data": {
      "text/html": [
       "<div>\n",
       "<style>\n",
       "    .dataframe thead tr:only-child th {\n",
       "        text-align: right;\n",
       "    }\n",
       "\n",
       "    .dataframe thead th {\n",
       "        text-align: left;\n",
       "    }\n",
       "\n",
       "    .dataframe tbody tr th {\n",
       "        vertical-align: top;\n",
       "    }\n",
       "</style>\n",
       "<table border=\"1\" class=\"dataframe\">\n",
       "  <thead>\n",
       "    <tr style=\"text-align: right;\">\n",
       "      <th>col_0</th>\n",
       "      <th>Abs. frequence</th>\n",
       "    </tr>\n",
       "    <tr>\n",
       "      <th>FDistance</th>\n",
       "      <th></th>\n",
       "    </tr>\n",
       "  </thead>\n",
       "  <tbody>\n",
       "    <tr>\n",
       "      <th>(0.0, 3.0]</th>\n",
       "      <td>19</td>\n",
       "    </tr>\n",
       "    <tr>\n",
       "      <th>(3.0, 6.0]</th>\n",
       "      <td>7</td>\n",
       "    </tr>\n",
       "    <tr>\n",
       "      <th>(6.0, 10.0]</th>\n",
       "      <td>0</td>\n",
       "    </tr>\n",
       "  </tbody>\n",
       "</table>\n",
       "</div>"
      ],
      "text/plain": [
       "col_0        Abs. frequence\n",
       "FDistance                  \n",
       "(0.0, 3.0]               19\n",
       "(3.0, 6.0]                7\n",
       "(6.0, 10.0]               0"
      ]
     },
     "execution_count": 4,
     "metadata": {},
     "output_type": "execute_result"
    }
   ],
   "source": [
    "p1 = pd.crosstab(\n",
    "    index=pd.cut(public_batte_car['FDistance'], bins=[0., 3., 6., 10.]),\n",
    "    columns='Abs. frequence')\n",
    "\n",
    "p1"
   ]
  },
  {
   "cell_type": "code",
   "execution_count": 5,
   "metadata": {
    "collapsed": true
   },
   "outputs": [],
   "source": [
    "p2 = pd.crosstab(\n",
    "    index=pd.cut(tragitti['FDistance'], bins=[0., 3., 6., 10.]),\n",
    "    columns='Abs. frequence')"
   ]
  },
  {
   "cell_type": "code",
   "execution_count": 6,
   "metadata": {},
   "outputs": [
    {
     "data": {
      "text/html": [
       "<div>\n",
       "<style>\n",
       "    .dataframe thead tr:only-child th {\n",
       "        text-align: right;\n",
       "    }\n",
       "\n",
       "    .dataframe thead th {\n",
       "        text-align: left;\n",
       "    }\n",
       "\n",
       "    .dataframe tbody tr th {\n",
       "        vertical-align: top;\n",
       "    }\n",
       "</style>\n",
       "<table border=\"1\" class=\"dataframe\">\n",
       "  <thead>\n",
       "    <tr style=\"text-align: right;\">\n",
       "      <th>col_0</th>\n",
       "      <th>Abs. frequence</th>\n",
       "    </tr>\n",
       "    <tr>\n",
       "      <th>FDistance</th>\n",
       "      <th></th>\n",
       "    </tr>\n",
       "  </thead>\n",
       "  <tbody>\n",
       "    <tr>\n",
       "      <th>(0.0, 3.0]</th>\n",
       "      <td>0.25</td>\n",
       "    </tr>\n",
       "    <tr>\n",
       "      <th>(3.0, 6.0]</th>\n",
       "      <td>0.02</td>\n",
       "    </tr>\n",
       "    <tr>\n",
       "      <th>(6.0, 10.0]</th>\n",
       "      <td>0.00</td>\n",
       "    </tr>\n",
       "  </tbody>\n",
       "</table>\n",
       "</div>"
      ],
      "text/plain": [
       "col_0        Abs. frequence\n",
       "FDistance                  \n",
       "(0.0, 3.0]             0.25\n",
       "(3.0, 6.0]             0.02\n",
       "(6.0, 10.0]            0.00"
      ]
     },
     "execution_count": 6,
     "metadata": {},
     "output_type": "execute_result"
    }
   ],
   "source": [
    "(p1 / p2).apply(lambda e: np.round(e*100, 2))"
   ]
  }
 ],
 "metadata": {
  "kernelspec": {
   "display_name": "Python 2",
   "language": "python",
   "name": "python2"
  },
  "language_info": {
   "codemirror_mode": {
    "name": "ipython",
    "version": 2
   },
   "file_extension": ".py",
   "mimetype": "text/x-python",
   "name": "python",
   "nbconvert_exporter": "python",
   "pygments_lexer": "ipython2",
   "version": "2.7.14"
  }
 },
 "nbformat": 4,
 "nbformat_minor": 2
}
