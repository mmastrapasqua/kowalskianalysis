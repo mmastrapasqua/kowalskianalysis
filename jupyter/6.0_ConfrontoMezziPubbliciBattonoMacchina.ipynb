{
 "cells": [
  {
   "cell_type": "code",
   "execution_count": 1,
   "metadata": {
    "collapsed": true
   },
   "outputs": [],
   "source": [
    "%matplotlib inline\n",
    "import numpy as np\n",
    "import pandas as pd\n",
    "import matplotlib.pyplot as plt\n",
    "from scipy.constants import golden\n",
    "plt.style.use('fivethirtyeight')\n",
    "plt.rc('figure', figsize=(10.0, 10.0/golden))\n",
    "\n",
    "# VARIABILI\n",
    "csvfile = 'csv/alldata.csv'\n",
    "distance_param = 'CDistance'\n",
    "\n",
    "# LETTURA DATI\n",
    "tragitti = pd.read_csv(csvfile, index_col=False)\n",
    "pre_lock_cond = (tragitti['Month'] == 3) & (tragitti['Day'] <= 12)\n",
    "post_lock_cond = ((tragitti['Month'] == 5) & (tragitti['Day'] >= 4)) | (tragitti['Month'] > 5)\n",
    "tragitti = tragitti[post_lock_cond]\n",
    "\n",
    "# PULIZIA DATI\n",
    "distance_cond = tragitti[distance_param] != 0\n",
    "moovit_cond = tragitti['Public'] > 12\n",
    "public_cond = tragitti['Public'] != 0\n",
    "bike_cond = tragitti['Bike'] != 0\n",
    "foot_cond = tragitti['Foot'] != 0\n",
    "car_cond = tragitti['Car'] != 0\n",
    "car2go_cond = tragitti['Car2Go'] != 0\n",
    "enjoy_cond = tragitti['Enjoy'] != 0\n",
    "coherence_cond = (tragitti['Car'] <= tragitti['Car2Go']) & (tragitti['Car'] <= tragitti['Enjoy'])\n",
    "cleaned = distance_cond & public_cond & bike_cond & foot_cond & car_cond & car2go_cond & enjoy_cond & coherence_cond"
   ]
  },
  {
   "cell_type": "code",
   "execution_count": 2,
   "metadata": {},
   "outputs": [
    {
     "data": {
      "text/plain": [
       "245"
      ]
     },
     "execution_count": 2,
     "metadata": {},
     "output_type": "execute_result"
    }
   ],
   "source": [
    "tragitti = tragitti[moovit_cond & bike_cond & foot_cond & car_cond & (tragitti['FDistance'] >= 2.)]\n",
    "public_batte_car = tragitti[tragitti['Public'] <= tragitti['Car']][['FDistance', 'Month', 'Day', 'Hour', 'Minute', 'Public', 'Car']]\n",
    "len(public_batte_car)"
   ]
  },
  {
   "cell_type": "code",
   "execution_count": 3,
   "metadata": {},
   "outputs": [
    {
     "data": {
      "image/png": "[encoded data removed]",
      "text/plain": [
       "<matplotlib.figure.Figure at 0x7f9f2176c110>"
      ]
     },
     "metadata": {},
     "output_type": "display_data"
    }
   ],
   "source": [
    "public_batte_car['Hour'].value_counts().sort_index().plot.bar()\n",
    "plt.show()"
   ]
  },
  {
   "cell_type": "code",
   "execution_count": 4,
   "metadata": {
    "collapsed": true
   },
   "outputs": [],
   "source": [
    "p1 = pd.crosstab(\n",
    "    index=pd.cut(public_batte_car['FDistance'], bins=[0., 3., 6., 10.]),\n",
    "    columns='Abs. frequence')"
   ]
  },
  {
   "cell_type": "code",
   "execution_count": 5,
   "metadata": {
    "collapsed": true
   },
   "outputs": [],
   "source": [
    "p2 = pd.crosstab(\n",
    "    index=pd.cut(tragitti['FDistance'], bins=[0., 3., 6., 10.]),\n",
    "    columns='Abs. frequence')"
   ]
  },
  {
   "cell_type": "code",
   "execution_count": 6,
   "metadata": {},
   "outputs": [
    {
     "data": {
      "text/html": [
       "<div>\n",
       "<style>\n",
       "    .dataframe thead tr:only-child th {\n",
       "        text-align: right;\n",
       "    }\n",
       "\n",
       "    .dataframe thead th {\n",
       "        text-align: left;\n",
       "    }\n",
       "\n",
       "    .dataframe tbody tr th {\n",
       "        vertical-align: top;\n",
       "    }\n",
       "</style>\n",
       "<table border=\"1\" class=\"dataframe\">\n",
       "  <thead>\n",
       "    <tr style=\"text-align: right;\">\n",
       "      <th>col_0</th>\n",
       "      <th>Abs. frequence</th>\n",
       "    </tr>\n",
       "    <tr>\n",
       "      <th>FDistance</th>\n",
       "      <th></th>\n",
       "    </tr>\n",
       "  </thead>\n",
       "  <tbody>\n",
       "    <tr>\n",
       "      <th>(0.0, 3.0]</th>\n",
       "      <td>0.50</td>\n",
       "    </tr>\n",
       "    <tr>\n",
       "      <th>(3.0, 6.0]</th>\n",
       "      <td>0.51</td>\n",
       "    </tr>\n",
       "    <tr>\n",
       "      <th>(6.0, 10.0]</th>\n",
       "      <td>0.27</td>\n",
       "    </tr>\n",
       "  </tbody>\n",
       "</table>\n",
       "</div>"
      ],
      "text/plain": [
       "col_0        Abs. frequence\n",
       "FDistance                  \n",
       "(0.0, 3.0]             0.50\n",
       "(3.0, 6.0]             0.51\n",
       "(6.0, 10.0]            0.27"
      ]
     },
     "execution_count": 6,
     "metadata": {},
     "output_type": "execute_result"
    }
   ],
   "source": [
    "(p1 / p2).apply(lambda e: np.round(e*100, 2))"
   ]
  }
 ],
 "metadata": {
  "kernelspec": {
   "display_name": "Python 2",
   "language": "python",
   "name": "python2"
  },
  "language_info": {
   "codemirror_mode": {
    "name": "ipython",
    "version": 2
   },
   "file_extension": ".py",
   "mimetype": "text/x-python",
   "name": "python",
   "nbconvert_exporter": "python",
   "pygments_lexer": "ipython2",
   "version": "2.7.14"
  }
 },
 "nbformat": 4,
 "nbformat_minor": 2
}
