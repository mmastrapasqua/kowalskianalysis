{
 "cells": [
  {
   "cell_type": "code",
   "execution_count": 1,
   "metadata": {
    "collapsed": true
   },
   "outputs": [],
   "source": [
    "%matplotlib inline\n",
    "\n",
    "import numpy as np\n",
    "import pandas as pd\n",
    "import matplotlib.pyplot as plt\n",
    "\n",
    "plt.style.use('fivethirtyeight')"
   ]
  },
  {
   "cell_type": "code",
   "execution_count": 2,
   "metadata": {
    "collapsed": true
   },
   "outputs": [],
   "source": [
    "# VARIABILI\n",
    "csvfile = '../csv/alldata.csv'\n",
    "distance_param = 'CDistance'\n",
    "\n",
    "# LETTURA DATI\n",
    "tragitti = pd.read_csv(csvfile, index_col=False)\n",
    "pre_lock_cond = (tragitti['Month'] == 3) & (tragitti['Day'] <= 12)\n",
    "post_lock_cond = ((tragitti['Month'] == 5) & (tragitti['Day'] >= 4)) | (tragitti['Month'] > 5)\n",
    "tragitti = tragitti[pre_lock_cond]\n",
    "\n",
    "# PULIZIA DATI\n",
    "distance_cond = tragitti[distance_param] != 0\n",
    "moovit_cond = tragitti['Public'] > 12\n",
    "public_cond = tragitti['Public'] != 0\n",
    "bike_cond = tragitti['Bike'] != 0\n",
    "foot_cond = tragitti['Foot'] != 0\n",
    "car_cond = tragitti['Car'] != 0\n",
    "car2go_cond = tragitti['Car2Go'] != 0\n",
    "enjoy_cond = tragitti['Enjoy'] != 0\n",
    "coherence_cond = (tragitti['Car'] < tragitti['Car2Go']) & (tragitti['Car'] < tragitti['Enjoy'])\n",
    "cleaned = distance_cond & public_cond & bike_cond & foot_cond & car_cond & car2go_cond & enjoy_cond & coherence_cond"
   ]
  },
  {
   "cell_type": "code",
   "execution_count": 3,
   "metadata": {
    "collapsed": true
   },
   "outputs": [],
   "source": [
    "tragitti = tragitti[car_cond & coherence_cond]"
   ]
  },
  {
   "cell_type": "code",
   "execution_count": 4,
   "metadata": {},
   "outputs": [
    {
     "data": {
      "text/plain": [
       "count    7532.000000\n",
       "mean        4.814392\n",
       "std         3.772802\n",
       "min         1.000000\n",
       "25%         2.000000\n",
       "50%         4.000000\n",
       "75%         6.000000\n",
       "max        38.000000\n",
       "dtype: float64"
      ]
     },
     "execution_count": 4,
     "metadata": {},
     "output_type": "execute_result"
    }
   ],
   "source": [
    "tempo_raggiungimento_car2go = tragitti['Car2Go'] - tragitti['Car']\n",
    "tempo_raggiungimento_car2go.describe()"
   ]
  },
  {
   "cell_type": "code",
   "execution_count": 5,
   "metadata": {},
   "outputs": [
    {
     "data": {
      "text/plain": [
       "count    7532.000000\n",
       "mean        6.466676\n",
       "std         4.761008\n",
       "min         1.000000\n",
       "25%         3.000000\n",
       "50%         5.000000\n",
       "75%         9.000000\n",
       "max        46.000000\n",
       "dtype: float64"
      ]
     },
     "execution_count": 5,
     "metadata": {},
     "output_type": "execute_result"
    }
   ],
   "source": [
    "tempo_raggiungimento_enjoy = tragitti['Enjoy'] - tragitti['Car']\n",
    "tempo_raggiungimento_enjoy.describe()"
   ]
  }
 ],
 "metadata": {
  "kernelspec": {
   "display_name": "Python 2",
   "language": "python",
   "name": "python2"
  },
  "language_info": {
   "codemirror_mode": {
    "name": "ipython",
    "version": 2
   },
   "file_extension": ".py",
   "mimetype": "text/x-python",
   "name": "python",
   "nbconvert_exporter": "python",
   "pygments_lexer": "ipython2",
   "version": "2.7.14"
  }
 },
 "nbformat": 4,
 "nbformat_minor": 2
}
