{
 "cells": [
  {
   "cell_type": "code",
   "execution_count": 1,
   "metadata": {
    "collapsed": true
   },
   "outputs": [],
   "source": [
    "%matplotlib inline\n",
    "import numpy as np\n",
    "import pandas as pd\n",
    "import matplotlib.pyplot as plt\n",
    "\n",
    "from scipy.constants import golden\n",
    "plt.style.use('default')\n",
    "\n",
    "# VARIABILI\n",
    "csvfile = 'csv/alldata.csv'\n",
    "distance_param = 'CDistance'\n",
    "colori = ['slategray', 'firebrick', 'darkorange', 'limegreen', 'slateblue']\n",
    "\n",
    "myindex = [\n",
    "    '7:00', '8:00', '9:00', '10:00',\n",
    "    '11:00', '12:00', '13:00', '14:00',\n",
    "    '15:00','16:00', '17:00', '18:00',\n",
    "    '19:00', '20:00', '21:00', '22:00',\n",
    "    '23:00']\n",
    "\n",
    "plterrindex = [\n",
    "    '10:00', '11:00', '12:00', '13:00',\n",
    "    '14:00', '15:00','16:00', '17:00',\n",
    "    '18:00', '19:00', '20:00', '21:00',\n",
    "    '22:00', '23:00', '7:00', '8:00',\n",
    "    '9:00']\n",
    "\n",
    "\n",
    "# LETTURA DATI\n",
    "tragitti = pd.read_csv(csvfile, index_col=False)\n",
    "pre_lock_cond = (tragitti['Month'] == 3) & (tragitti['Day'] <= 12)\n",
    "post_lock_cond = ((tragitti['Month'] == 5) & (tragitti['Day'] >= 4)) | (tragitti['Month'] > 5)\n",
    "tragitti = tragitti[post_lock_cond]\n",
    "\n",
    "def clean(df):\n",
    "    distance_cond = df[distance_param] > 0\n",
    "    moovit_cond = df['Public'] > 12\n",
    "    public_cond = df['Public'] > 0\n",
    "    bike_cond = df['Bike'] > 0\n",
    "    foot_cond = df['Foot'] > 0\n",
    "    car_cond = df['Car'] > 0\n",
    "    car2go_cond = df['Car2Go'] > 0\n",
    "    enjoy_cond = df['Enjoy'] > 0\n",
    "    coherence_cond = (df['Car'] <= df['Car2Go']) & (df['Car'] <= df['Enjoy'])\n",
    "    cleaned = distance_cond & public_cond & bike_cond & foot_cond & car_cond & car2go_cond & enjoy_cond & coherence_cond\n",
    "    return cleaned"
   ]
  },
  {
   "cell_type": "code",
   "execution_count": 2,
   "metadata": {
    "collapsed": true
   },
   "outputs": [],
   "source": [
    "replace = {}\n",
    "replace['Car'] = 'Auto'\n",
    "replace['Public'] = 'ATM'\n",
    "replace['Bike'] = 'Bici'\n",
    "replace['Foot'] = 'A piedi'\n",
    "replace['Enjoy'] = 'Enjoy'\n",
    "\n",
    "# Velocita' media durante il giorno\n",
    "def vmedia_giorno(df, mezzo):\n",
    "    ore = range(7, 24)\n",
    "    vmedia_giorno_ore = []\n",
    "    for ora in ore:\n",
    "        tragitti_fascia_oraria = df[df['Hour'] == ora]\n",
    "        velocita_media_oraria = (tragitti_fascia_oraria[distance_param] * 60.) / tragitti_fascia_oraria[mezzo]\n",
    "        vmedia_giorno_ore.append(velocita_media_oraria.mean())\n",
    "    return vmedia_giorno_ore\n",
    "\n",
    "def vstd_giorno(df, mezzo):\n",
    "    ore = range(7, 24)\n",
    "    vmedia_giorno_ore = []\n",
    "    for ora in ore:\n",
    "        tragitti_fascia_oraria = df[df['Hour'] == ora]\n",
    "        velocita_media_oraria = (tragitti_fascia_oraria[distance_param] * 60.) / tragitti_fascia_oraria[mezzo]\n",
    "        vmedia_giorno_ore.append(2 * np.std(velocita_media_oraria, ddof=1))\n",
    "    return vmedia_giorno_ore\n",
    "\n",
    "def vmedia_week(df, mezzo):    \n",
    "    lst = vmedia_week_list(df, mezzo)\n",
    "    array = np.array(lst).T\n",
    "    return pd.DataFrame(array, index=myindex, columns=[replace[mezzo]]).round(1)\n",
    "\n",
    "def vmedia_week_list(df, mezzo):    \n",
    "    return [vmedia_giorno(df, mezzo)]\n",
    "\n",
    "def week_filters(df):\n",
    "    sd = 4\n",
    "    weeks = \\\n",
    "        ((df['Month'] == 5) & (\n",
    "            (df['Day'].between(sd, sd + 4)) |\n",
    "            (df['Day'].between(sd + 7, sd + 7 + 4)) |\n",
    "            (df['Day'].between(sd + 7*2, sd + 7*2 + 4)) |\n",
    "            (df['Day'].between(sd + 7*3, sd + 7*3 + 4)))) | \\\n",
    "        ((df['Month'] == 6) & (\n",
    "            (df['Day'].between(1, 1 + 4)) |\n",
    "            (df['Day'].between(1 + 7, 1 + 7 + 4)) |\n",
    "            (df['Day'].between(1 + 7*2, 1 + 7*2 + 4)) |\n",
    "            (df['Day'].between(1 + 7*3, 1+7*3 + 4))))\n",
    "\n",
    "    weekends = \\\n",
    "        ((df['Month'] == 5) & (\n",
    "            (df['Day'].between(sd + 5, sd + 5 + 1)) |\n",
    "            (df['Day'].between(sd + 7 + 5, sd + 7 + 5 + 1)) |\n",
    "            (df['Day'].between(sd + 7*2 + 5, sd + 7*2 + 5 + 1)) |\n",
    "            (df['Day'].between(sd + 7*3 + 5, sd + 7*3 + 5 + 1)))) | \\\n",
    "        ((df['Month'] == 6) & (\n",
    "            (df['Day'].between(1 + 5, 1 + 5 + 1)) |\n",
    "            (df['Day'].between(1 + 7 + 5, 1 + 7 + 5 + 1)) |\n",
    "            (df['Day'].between(1 + 7*2 + 5, 1 + 7*2 + 5 + 1)) |\n",
    "            (df['Day'].between(1 + 7*3 + 5, 1 + 7*3 + 5 + 1))))\n",
    "    \n",
    "    return weeks, weekends\n",
    "\n",
    "tragitti = tragitti[clean(tragitti)]\n",
    "w, we = week_filters(tragitti)"
   ]
  },
  {
   "cell_type": "code",
   "execution_count": 3,
   "metadata": {
    "scrolled": true
   },
   "outputs": [
    {
     "data": {
      "image/png": "[encoded data removed]",
      "text/plain": [
       "<matplotlib.figure.Figure at 0x7f448701e850>"
      ]
     },
     "metadata": {},
     "output_type": "display_data"
    }
   ],
   "source": [
    "vmedia_week(tragitti, 'Car').plot.bar(width=0.9, align='center', color=colori[0])\n",
    "plt.xlabel('orario')\n",
    "plt.ylabel('velocita\\' media [km/h]')\n",
    "plt.legend(bbox_to_anchor=(1.05, 1), loc='upper left', fontsize='small')\n",
    "\n",
    "x = plterrindex\n",
    "y = vmedia_week_list(tragitti, 'Car')[0]\n",
    "dy = np.round(vstd_giorno(tragitti, 'Car'), 1).tolist()\n",
    "plt.errorbar(x, y, yerr=dy, lw=1.5, fmt='.k', color='black', ecolor='blue', capsize=3)\n",
    "\n",
    "plt.yticks(range(0, 35, 2))\n",
    "plt.show()"
   ]
  },
  {
   "cell_type": "code",
   "execution_count": 4,
   "metadata": {
    "scrolled": true
   },
   "outputs": [
    {
     "data": {
      "text/plain": [
       "count    49560.000000\n",
       "mean        23.838455\n",
       "std          3.970546\n",
       "min          8.912400\n",
       "25%         21.171049\n",
       "50%         23.715333\n",
       "75%         26.321036\n",
       "max         59.076545\n",
       "dtype: float64"
      ]
     },
     "execution_count": 4,
     "metadata": {},
     "output_type": "execute_result"
    }
   ],
   "source": [
    "velocita_media = (tragitti[distance_param] * 60.) / tragitti['Car']\n",
    "velocita_media.describe()"
   ]
  },
  {
   "cell_type": "code",
   "execution_count": 5,
   "metadata": {
    "scrolled": false
   },
   "outputs": [
    {
     "data": {
      "image/png": "[encoded data removed]",
      "text/plain": [
       "<matplotlib.figure.Figure at 0x7f4487ad76d0>"
      ]
     },
     "metadata": {},
     "output_type": "display_data"
    }
   ],
   "source": [
    "distance_param = 'CDistance'\n",
    "lst = [\n",
    "    vmedia_week_list(tragitti[w], 'Car')[0],\n",
    "    vmedia_week_list(tragitti[we], 'Car')[0]]\n",
    "\n",
    "def list_minus(l1, l2):\n",
    "    r = []\n",
    "    for i in range(0, len(l1)):\n",
    "        r.append(l1[i] - l2[i])\n",
    "    return r\n",
    "\n",
    "a = list_minus(lst[1], lst[0])\n",
    "b = lst[0]\n",
    "\n",
    "lst = [b, a]\n",
    "\n",
    "array = np.array(lst).T\n",
    "\n",
    "x = pd.DataFrame(array, index=myindex, columns=['Week', 'Weekend'])\n",
    "\n",
    "x.plot.bar(stacked=True, width=0.9, align='center', color=['slategray', 'darkorange'])\n",
    "\n",
    "plt.xlabel('orario')\n",
    "plt.ylabel('velocita\\' media [km/h]')\n",
    "plt.legend(reversed(plt.legend().legendHandles), reversed(['Lun-Ven', 'Sab-Dom']), bbox_to_anchor=(1.05, 1), loc='upper left', fontsize='small')\n",
    "\n",
    "plt.yticks(range(0, 31, 1))\n",
    "plt.ylim((21, 28))\n",
    "\n",
    "plt.show()"
   ]
  },
  {
   "cell_type": "code",
   "execution_count": null,
   "metadata": {},
   "outputs": [
    {
     "name": "stdout",
     "output_type": "stream",
     "text": [
      "9.96052450594\n",
      "14.6824608657\n",
      "13.5611859034\n",
      "10.8277110016\n",
      "7.82787909657\n",
      "5.84427484012\n",
      "7.2200970641\n",
      "8.4775073304\n",
      "7.69220851112\n",
      "7.41475794652\n",
      "7.99919914464\n",
      "7.64721456671\n",
      "4.23620374457\n",
      "1.83676091541\n",
      "0.609722164222\n",
      "0.915586172999\n",
      "0.246464453948\n"
     ]
    }
   ],
   "source": [
    "x, y = vmedia_week_list(tragitti[we], 'Car')[0], vmedia_week_list(tragitti[w], 'Car')[0]\n",
    "for i in range(0, len(x)):\n",
    "    z = x[i] - y[i]\n",
    "    print (z / x[i]) * 100\n"
   ]
  },
  {
   "cell_type": "code",
   "execution_count": null,
   "metadata": {},
   "outputs": [],
   "source": [
    "lst = [\n",
    "    vmedia_giorno(tragitti[(tragitti['Month'] == 5) & tragitti['Day'].between(4, 17)], 'Car'),\n",
    "    vmedia_giorno(tragitti[(tragitti['Month'] == 5) & tragitti['Day'].between(18, 31)], 'Car'),\n",
    "    vmedia_giorno(tragitti[(tragitti['Month'] == 6) & tragitti['Day'].between(1, 14)], 'Car'),\n",
    "    vmedia_giorno(tragitti[(tragitti['Month'] == 6) & tragitti['Day'].between(15, 27)], 'Car')]\n",
    "\n",
    "array = np.array(lst).T\n",
    "\n",
    "confronto_vmedie_week_by_week = pd.DataFrame(\n",
    "    array,\n",
    "    index=myindex,\n",
    "    columns=['Maggio 4-17', 'Maggio 18-31', 'Giugno 1-14', 'Giugno 15-27']).round(decimals=1)\n",
    "\n",
    "a = list_minus(lst[0], lst[1])\n",
    "b = list_minus(lst[1], lst[2])\n",
    "c = list_minus(lst[2], lst[3])\n",
    "d = lst[3]\n",
    "\n",
    "lst = [d, c, b, a]\n",
    "\n",
    "array = np.array(lst).T\n",
    "\n",
    "x = pd.DataFrame(array, index=myindex, columns=['Giugno 15-27', 'Giugno 1-14', 'Maggio 18-31', 'Maggio 4-17'])\n",
    "\n",
    "x.plot.bar(stacked=True, width=0.9, align='center', color=['slategray', 'indianred', 'darkorange', 'lightsalmon'])\n",
    "\n",
    "plt.xlabel('orario')\n",
    "plt.ylabel('velocita\\' media [km/h]')\n",
    "plt.legend(reversed(plt.legend().legendHandles), reversed(['Giugno 15-27', 'Giugno 1-14', 'Maggio 18-31', 'Maggio 4-17']), bbox_to_anchor=(1.05, 1), loc='upper left', fontsize='small')\n",
    "\n",
    "plt.yticks(range(0, 31, 1))\n",
    "plt.ylim((20, 28))\n",
    "\n",
    "plt.show()"
   ]
  },
  {
   "cell_type": "code",
   "execution_count": null,
   "metadata": {
    "scrolled": false
   },
   "outputs": [],
   "source": [
    "vmedia_week(tragitti, 'Enjoy').plot.bar(width=0.9, align='center', color=colori[1])\n",
    "plt.xlabel('orario')\n",
    "plt.ylabel('velocita\\' media [km/h]')\n",
    "plt.legend(bbox_to_anchor=(1.05, 1), loc='upper left', fontsize='small')\n",
    "\n",
    "x = plterrindex\n",
    "y = vmedia_week_list(tragitti, 'Enjoy')[0]\n",
    "dy = np.round(vstd_giorno(tragitti, 'Enjoy'), 1).tolist()\n",
    "plt.errorbar(x, y, yerr=dy, lw=1.5, fmt='.k', color='black', ecolor='darkorange', capsize=3)\n",
    "\n",
    "plt.yticks(range(0, 29, 2))\n",
    "plt.show()"
   ]
  },
  {
   "cell_type": "code",
   "execution_count": null,
   "metadata": {
    "scrolled": false
   },
   "outputs": [],
   "source": [
    "velocita_media = (tragitti[distance_param] * 60.) / tragitti['Enjoy']\n",
    "velocita_media.describe()"
   ]
  },
  {
   "cell_type": "code",
   "execution_count": null,
   "metadata": {
    "scrolled": true
   },
   "outputs": [],
   "source": [
    "lst = [\n",
    "    vmedia_giorno(tragitti[(tragitti['Month'] == 5) & tragitti['Day'].between(4, 17)], 'Enjoy'),\n",
    "    vmedia_giorno(tragitti[(tragitti['Month'] == 5) & tragitti['Day'].between(18, 31)], 'Enjoy'),\n",
    "    vmedia_giorno(tragitti[(tragitti['Month'] == 6) & tragitti['Day'].between(1, 14)], 'Enjoy'),\n",
    "    vmedia_giorno(tragitti[(tragitti['Month'] == 6) & tragitti['Day'].between(15, 27)], 'Enjoy')]\n",
    "\n",
    "array = np.array(lst).T\n",
    "\n",
    "confronto_vmedie_week_by_week = pd.DataFrame(\n",
    "    array,\n",
    "    index=myindex,\n",
    "    columns=['Maggio 4-17', 'Maggio 18-31', 'Giugno 1-14', 'Giugno 15-27']).round(decimals=1)\n",
    "\n",
    "a = list_minus(lst[0], lst[1])\n",
    "b = list_minus(lst[1], lst[2])\n",
    "c = list_minus(lst[2], lst[3])\n",
    "d = lst[3]\n",
    "\n",
    "lst = [d, c, b, a]\n",
    "\n",
    "array = np.array(lst).T\n",
    "\n",
    "x = pd.DataFrame(array, index=myindex, columns=['Giugno 15-27', 'Giugno 1-14', 'Maggio 18-31', 'Maggio 4-17'])\n",
    "\n",
    "x.plot.bar(stacked=True, width=0.9, align='center', color=['firebrick', 'indianred', 'darkorange', 'lightsalmon'])\n",
    "\n",
    "plt.xlabel('orario')\n",
    "plt.ylabel('velocita\\' media [km/h]')\n",
    "plt.legend(reversed(plt.legend().legendHandles), reversed(['Giugno 15-27', 'Giugno 1-14', 'Maggio 18-31', 'Maggio 4-17']), bbox_to_anchor=(1.05, 1), loc='upper left', fontsize='small')\n",
    "\n",
    "plt.yticks(range(0, 31, 1))\n",
    "plt.ylim((14, 19))\n",
    "\n",
    "plt.show()"
   ]
  },
  {
   "cell_type": "code",
   "execution_count": null,
   "metadata": {},
   "outputs": [],
   "source": [
    "x, y = vmedia_week_list(tragitti[we], 'Enjoy')[0], vmedia_week_list(tragitti[w], 'Enjoy')[0]\n",
    "for i in range(0, len(x)):\n",
    "    z = x[i] - y[i]\n",
    "    print (z / x[i]) * 100"
   ]
  },
  {
   "cell_type": "code",
   "execution_count": null,
   "metadata": {
    "scrolled": true
   },
   "outputs": [],
   "source": [
    "vmedia_week(tragitti, 'Public').plot.bar(width=0.9, align='center', color=colori[2])\n",
    "plt.xlabel('orario')\n",
    "plt.ylabel('velocita\\' media [km/h]')\n",
    "plt.legend(bbox_to_anchor=(1.05, 1), loc='upper left', fontsize='small')\n",
    "\n",
    "x = plterrindex\n",
    "y = vmedia_week_list(tragitti, 'Public')[0]\n",
    "dy = np.round(vstd_giorno(tragitti, 'Public'), 1).tolist()\n",
    "plt.errorbar(x, y, yerr=dy, lw=1.5, fmt='.k', color='black', ecolor='red', capsize=3)\n",
    "\n",
    "plt.yticks(range(0, 17, 2))\n",
    "plt.show()"
   ]
  },
  {
   "cell_type": "code",
   "execution_count": null,
   "metadata": {},
   "outputs": [],
   "source": [
    "velocita_media = (tragitti[distance_param] * 60.) / tragitti['Public']\n",
    "velocita_media.describe()"
   ]
  },
  {
   "cell_type": "code",
   "execution_count": null,
   "metadata": {
    "scrolled": true
   },
   "outputs": [],
   "source": [
    "distance_param = 'FDistance'\n",
    "\n",
    "vmedia_week(tragitti, 'Bike').plot.bar(width=0.9, align='center', color=colori[3])\n",
    "plt.xlabel('orario')\n",
    "plt.ylabel('velocita\\' media [km/h]')\n",
    "plt.legend(bbox_to_anchor=(1.05, 1), loc='upper left', fontsize='small')\n",
    "\n",
    "x = plterrindex\n",
    "y = vmedia_week_list(tragitti, 'Bike')[0]\n",
    "dy = np.round(vstd_giorno(tragitti, 'Bike'), 1).tolist()\n",
    "plt.errorbar(x, y, yerr=dy, lw=1.5, fmt='.k', color='black', ecolor='red', capsize=3)\n",
    "\n",
    "plt.yticks(range(0, 15, 2))\n",
    "plt.show()"
   ]
  },
  {
   "cell_type": "code",
   "execution_count": null,
   "metadata": {},
   "outputs": [],
   "source": [
    "velocita_media = (tragitti[distance_param] * 60.) / tragitti['Bike']\n",
    "velocita_media.describe()"
   ]
  },
  {
   "cell_type": "code",
   "execution_count": null,
   "metadata": {},
   "outputs": [],
   "source": [
    "vmedia_week(tragitti, 'Foot').plot.bar(width=0.9, align='center', color=colori[4])\n",
    "plt.xlabel('orario')\n",
    "plt.ylabel('velocita\\' media [km/h]')\n",
    "plt.legend(bbox_to_anchor=(1.05, 1), loc='upper left', fontsize='small')\n",
    "\n",
    "x = plterrindex\n",
    "y = vmedia_week_list(tragitti, 'Foot')[0]\n",
    "dy = np.round(vstd_giorno(tragitti, 'Foot'), 1).tolist()\n",
    "plt.errorbar(x, y, yerr=dy, lw=1.5, fmt='.k', color='black', ecolor='red', capsize=3)\n",
    "\n",
    "plt.yticks(range(0, 7, 1))\n",
    "plt.show()"
   ]
  },
  {
   "cell_type": "code",
   "execution_count": null,
   "metadata": {
    "scrolled": true
   },
   "outputs": [],
   "source": [
    "velocita_media = (tragitti[distance_param] * 60.) / tragitti['Foot']\n",
    "velocita_media.describe()"
   ]
  },
  {
   "cell_type": "code",
   "execution_count": null,
   "metadata": {
    "collapsed": true
   },
   "outputs": [],
   "source": [
    "distance_param = 'CDistance'\n",
    "lst = [\n",
    "    vmedia_week_list(tragitti, 'Car')[0],\n",
    "    vmedia_week_list(tragitti, 'Enjoy')[0]]\n",
    "\n",
    "distance_param = 'FDistance'\n",
    "lst.append(vmedia_week_list(tragitti, 'Bike')[0])\n",
    "\n",
    "distance_param = 'CDistance'\n",
    "lst.append(vmedia_week_list(tragitti, 'Public')[0])\n",
    "\n",
    "distance_param = 'FDistance'\n",
    "lst.append(vmedia_week_list(tragitti, 'Foot')[0])"
   ]
  },
  {
   "cell_type": "code",
   "execution_count": null,
   "metadata": {
    "scrolled": true
   },
   "outputs": [],
   "source": [
    "distance_param = 'CDistance'\n",
    "lst = [\n",
    "    vmedia_week_list(tragitti, 'Car')[0],\n",
    "    vmedia_week_list(tragitti, 'Enjoy')[0]]\n",
    "\n",
    "distance_param = 'FDistance'\n",
    "lst.append(vmedia_week_list(tragitti, 'Bike')[0])\n",
    "\n",
    "distance_param = 'CDistance'\n",
    "lst.append(vmedia_week_list(tragitti, 'Public')[0])\n",
    "\n",
    "distance_param = 'FDistance'\n",
    "lst.append(vmedia_week_list(tragitti, 'Foot')[0])\n",
    "\n",
    "def list_minus(l1, l2):\n",
    "    r = []\n",
    "    for i in range(0, len(l1)):\n",
    "        r.append(l1[i] - l2[i])\n",
    "    return r\n",
    "\n",
    "a = list_minus(lst[0], lst[1])\n",
    "b = list_minus(lst[1], lst[2])\n",
    "c = list_minus(lst[2], lst[3])\n",
    "d = list_minus(lst[3], lst[4])\n",
    "e = lst[4]\n",
    "\n",
    "lst = [e, d, c, b, a]\n",
    "\n",
    "array = np.array(lst).T\n",
    "\n",
    "x = pd.DataFrame(array, index=myindex, columns=['Foot', 'Public', 'Bike', 'Enjoy', 'Car'])\n",
    "colori = ['slateblue', 'darkorange', 'limegreen', 'firebrick', 'slategray']\n",
    "x.plot.bar(color=colori, stacked=True, width=0.9, align='center')\n",
    "\n",
    "plt.xlabel('orario')\n",
    "plt.ylabel('velocita\\' media [km/h]')\n",
    "plt.legend(reversed(plt.legend().legendHandles), reversed(['Foot', 'Public', 'Bike', 'Enjoy', 'Car']), bbox_to_anchor=(1.05, 1), loc='upper left', fontsize='small')\n",
    "\n",
    "plt.show()"
   ]
  },
  {
   "cell_type": "code",
   "execution_count": null,
   "metadata": {
    "collapsed": true
   },
   "outputs": [],
   "source": []
  }
 ],
 "metadata": {
  "kernelspec": {
   "display_name": "Python 2",
   "language": "python",
   "name": "python2"
  },
  "language_info": {
   "codemirror_mode": {
    "name": "ipython",
    "version": 2
   },
   "file_extension": ".py",
   "mimetype": "text/x-python",
   "name": "python",
   "nbconvert_exporter": "python",
   "pygments_lexer": "ipython2",
   "version": "2.7.14"
  }
 },
 "nbformat": 4,
 "nbformat_minor": 2
}
