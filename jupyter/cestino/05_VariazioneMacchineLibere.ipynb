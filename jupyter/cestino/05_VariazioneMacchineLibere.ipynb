{
 "cells": [
  {
   "cell_type": "code",
   "execution_count": 1,
   "metadata": {
    "collapsed": true
   },
   "outputs": [],
   "source": [
    "%matplotlib inline\n",
    "import numpy as np\n",
    "import pandas as pd\n",
    "import matplotlib.pyplot as plt\n",
    "\n",
    "from scipy.constants import golden\n",
    "plt.style.use('default')\n",
    "\n",
    "# VARIABILI\n",
    "csvfile = '/home/jovyan/tesi/csv/alldata.csv'\n",
    "distance_param = 'CDistance'\n",
    "myindex = [\n",
    "    '7:00', '8:00', '9:00', '10:00',\n",
    "    '11:00', '12:00', '13:00', '14:00',\n",
    "    '15:00','16:00', '17:00', '18:00',\n",
    "    '19:00', '20:00', '21:00', '22:00',\n",
    "    '23:00']\n",
    "\n",
    "# LETTURA DATI\n",
    "tragitti = pd.read_csv(csvfile, index_col=False)\n",
    "pre_lock_cond = (tragitti['Month'] == 3) & (tragitti['Day'] <= 12)\n",
    "post_lock_cond = ((tragitti['Month'] == 5) & (tragitti['Day'] >= 4)) | (tragitti['Month'] > 5)\n",
    "tragitti = tragitti[post_lock_cond]\n",
    "\n",
    "def clean(df):\n",
    "    distance_cond = df[distance_param] > 0\n",
    "    moovit_cond = df['Public'] > 12\n",
    "    public_cond = df['Public'] > 0\n",
    "    bike_cond = df['Bike'] > 0\n",
    "    foot_cond = df['Foot'] > 0\n",
    "    car_cond = df['Car'] > 0\n",
    "    car2go_cond = df['Car2Go'] > 0\n",
    "    enjoy_cond = df['Enjoy'] > 0\n",
    "    coherence_cond = (df['Car'] <= df['Car2Go']) & (df['Car'] <= df['Enjoy'])\n",
    "    cleaned = distance_cond & public_cond & bike_cond & foot_cond & car_cond & car2go_cond & enjoy_cond & coherence_cond\n",
    "    return cleaned"
   ]
  },
  {
   "cell_type": "code",
   "execution_count": 2,
   "metadata": {
    "collapsed": true
   },
   "outputs": [],
   "source": [
    "# Velocita' media durante il giorno\n",
    "def tmedio_macchina_giorno(df, mezzo):\n",
    "    ore = range(7, 24)\n",
    "    vmedia_giorno_ore = []\n",
    "    for ora in ore:\n",
    "        tragitti_fascia_oraria = df[df['Hour'] == ora]\n",
    "        velocita_media_oraria = tragitti_fascia_oraria[mezzo] - tragitti_fascia_oraria['Car']\n",
    "        vmedia_giorno_ore.append(velocita_media_oraria.mean())\n",
    "    return vmedia_giorno_ore\n",
    "    \n",
    "def tmedio_macchina_week(df, mezzo):\n",
    "    short_paths = df[distance_param].between(2.0, 4.0)\n",
    "    medium_paths = df[distance_param].between(4.0, 6.0)\n",
    "    long_paths = df[distance_param].between(6.0, 10.0)\n",
    "    \n",
    "    lst = [\n",
    "        tmedio_macchina_giorno(df[short_paths], mezzo),\n",
    "        tmedio_macchina_giorno(df[medium_paths], mezzo),\n",
    "        tmedio_macchina_giorno(df[long_paths], mezzo)]\n",
    "    \n",
    "    array = np.array(lst).T\n",
    "    \n",
    "    return pd.DataFrame(array, index=myindex, columns=['[2, 4) km', '[4, 6) km', '[6, 10) km']).round(2)\n",
    "\n",
    "wcolors = ['blue', 'green', 'purple']\n",
    "tragitti = tragitti[clean(tragitti)]"
   ]
  },
  {
   "cell_type": "code",
   "execution_count": 3,
   "metadata": {
    "collapsed": true
   },
   "outputs": [],
   "source": [
    "def macchine_libere_week_weekend(df):\n",
    "    sd = 4\n",
    "    weeks = \\\n",
    "        ((df['Month'] == 5) & (\n",
    "            (df['Day'].between(sd, sd + 4)) |\n",
    "            (df['Day'].between(sd + 7, sd + 7 + 4)) |\n",
    "            (df['Day'].between(sd + 7*2, sd + 7*2 + 4)) |\n",
    "            (df['Day'].between(sd + 7*3, sd + 7*3 + 4)))) | \\\n",
    "        ((df['Month'] == 6) & (\n",
    "            (df['Day'].between(1, 1 + 4)) |\n",
    "            (df['Day'].between(1 + 7, 1 + 7 + 4)) |\n",
    "            (df['Day'].between(1 + 7*2, 1 + 7*2 + 4)) |\n",
    "            (df['Day'].between(1 + 7*3, 1+7*3 + 4))))\n",
    "\n",
    "    weekends = \\\n",
    "        ((df['Month'] == 5) & (\n",
    "            (df['Day'].between(sd + 5, sd + 5 + 1)) |\n",
    "            (df['Day'].between(sd + 7 + 5, sd + 7 + 5 + 1)) |\n",
    "            (df['Day'].between(sd + 7*2 + 5, sd + 7*2 + 5 + 1)) |\n",
    "            (df['Day'].between(sd + 7*3 + 5, sd + 7*3 + 5 + 1)))) | \\\n",
    "        ((df['Month'] == 6) & (\n",
    "            (df['Day'].between(1 + 5, 1 + 5 + 1)) |\n",
    "            (df['Day'].between(1 + 7 + 5, 1 + 7 + 5 + 1)) |\n",
    "            (df['Day'].between(1 + 7*2 + 5, 1 + 7*2 + 5 + 1)) |\n",
    "            (df['Day'].between(1 + 7*3 + 5, 1 + 7*3 + 5 + 1))))\n",
    "        \n",
    "    lst = [\n",
    "        macchine_libere_giorno(df[weeks]),\n",
    "        macchine_libere_giorno(df[weekends])]\n",
    "    array = np.array(lst).T\n",
    "    \n",
    "    return pd.DataFrame(array, index=myindex, columns=['Lun-Ven', 'Sab-Dom']).round(2)"
   ]
  },
  {
   "cell_type": "code",
   "execution_count": 4,
   "metadata": {
    "scrolled": true
   },
   "outputs": [
    {
     "ename": "NameError",
     "evalue": "global name 'macchine_libere_giorno' is not defined",
     "output_type": "error",
     "traceback": [
      "\u001b[0;31m---------------------------------------------------------------------------\u001b[0m",
      "\u001b[0;31mNameError\u001b[0m                                 Traceback (most recent call last)",
      "\u001b[0;32m<ipython-input-4-c55b1f767b1b>\u001b[0m in \u001b[0;36m<module>\u001b[0;34m()\u001b[0m\n\u001b[1;32m     27\u001b[0m \u001b[0mw\u001b[0m\u001b[0;34m,\u001b[0m \u001b[0mwe\u001b[0m \u001b[0;34m=\u001b[0m \u001b[0mweek_filters\u001b[0m\u001b[0;34m(\u001b[0m\u001b[0mtragitti\u001b[0m\u001b[0;34m)\u001b[0m\u001b[0;34m\u001b[0m\u001b[0m\n\u001b[1;32m     28\u001b[0m \u001b[0;34m\u001b[0m\u001b[0m\n\u001b[0;32m---> 29\u001b[0;31m \u001b[0mmacchine_libere_week_weekend\u001b[0m\u001b[0;34m(\u001b[0m\u001b[0mtragitti\u001b[0m\u001b[0;34m)\u001b[0m\u001b[0;34m.\u001b[0m\u001b[0mplot\u001b[0m\u001b[0;34m(\u001b[0m\u001b[0mcolor\u001b[0m\u001b[0;34m=\u001b[0m\u001b[0mwcolors\u001b[0m\u001b[0;34m)\u001b[0m\u001b[0;34m\u001b[0m\u001b[0m\n\u001b[0m\u001b[1;32m     30\u001b[0m \u001b[0mplt\u001b[0m\u001b[0;34m.\u001b[0m\u001b[0myticks\u001b[0m\u001b[0;34m(\u001b[0m\u001b[0mrange\u001b[0m\u001b[0;34m(\u001b[0m\u001b[0;36m720\u001b[0m\u001b[0;34m,\u001b[0m \u001b[0;36m881\u001b[0m\u001b[0;34m,\u001b[0m \u001b[0;36m20\u001b[0m\u001b[0;34m)\u001b[0m\u001b[0;34m)\u001b[0m\u001b[0;34m\u001b[0m\u001b[0m\n\u001b[1;32m     31\u001b[0m \u001b[0mplt\u001b[0m\u001b[0;34m.\u001b[0m\u001b[0mxlabel\u001b[0m\u001b[0;34m(\u001b[0m\u001b[0;34m'orario'\u001b[0m\u001b[0;34m)\u001b[0m\u001b[0;34m\u001b[0m\u001b[0m\n",
      "\u001b[0;32m<ipython-input-3-c5e35443bf05>\u001b[0m in \u001b[0;36mmacchine_libere_week_weekend\u001b[0;34m(df)\u001b[0m\n\u001b[1;32m     24\u001b[0m \u001b[0;34m\u001b[0m\u001b[0m\n\u001b[1;32m     25\u001b[0m     lst = [\n\u001b[0;32m---> 26\u001b[0;31m         \u001b[0mmacchine_libere_giorno\u001b[0m\u001b[0;34m(\u001b[0m\u001b[0mdf\u001b[0m\u001b[0;34m[\u001b[0m\u001b[0mweeks\u001b[0m\u001b[0;34m]\u001b[0m\u001b[0;34m)\u001b[0m\u001b[0;34m,\u001b[0m\u001b[0;34m\u001b[0m\u001b[0m\n\u001b[0m\u001b[1;32m     27\u001b[0m         macchine_libere_giorno(df[weekends])]\n\u001b[1;32m     28\u001b[0m     \u001b[0marray\u001b[0m \u001b[0;34m=\u001b[0m \u001b[0mnp\u001b[0m\u001b[0;34m.\u001b[0m\u001b[0marray\u001b[0m\u001b[0;34m(\u001b[0m\u001b[0mlst\u001b[0m\u001b[0;34m)\u001b[0m\u001b[0;34m.\u001b[0m\u001b[0mT\u001b[0m\u001b[0;34m\u001b[0m\u001b[0m\n",
      "\u001b[0;31mNameError\u001b[0m: global name 'macchine_libere_giorno' is not defined"
     ]
    }
   ],
   "source": [
    "def week_filters(df):\n",
    "    sd = 4\n",
    "    weeks = \\\n",
    "        ((df['Month'] == 5) & (\n",
    "            (df['Day'].between(sd, sd + 4)) |\n",
    "            (df['Day'].between(sd + 7, sd + 7 + 4)) |\n",
    "            (df['Day'].between(sd + 7*2, sd + 7*2 + 4)) |\n",
    "            (df['Day'].between(sd + 7*3, sd + 7*3 + 4)))) | \\\n",
    "        ((df['Month'] == 6) & (\n",
    "            (df['Day'].between(1, 1 + 4)) |\n",
    "            (df['Day'].between(1 + 7, 1 + 7 + 4)) |\n",
    "            (df['Day'].between(1 + 7*2, 1 + 7*2 + 4)) |\n",
    "            (df['Day'].between(1 + 7*3, 1+7*3 + 4))))\n",
    "\n",
    "    weekends = \\\n",
    "        ((df['Month'] == 5) & (\n",
    "            (df['Day'].between(sd + 5, sd + 5 + 1)) |\n",
    "            (df['Day'].between(sd + 7 + 5, sd + 7 + 5 + 1)) |\n",
    "            (df['Day'].between(sd + 7*2 + 5, sd + 7*2 + 5 + 1)) |\n",
    "            (df['Day'].between(sd + 7*3 + 5, sd + 7*3 + 5 + 1)))) | \\\n",
    "        ((df['Month'] == 6) & (\n",
    "            (df['Day'].between(1 + 5, 1 + 5 + 1)) |\n",
    "            (df['Day'].between(1 + 7 + 5, 1 + 7 + 5 + 1)) |\n",
    "            (df['Day'].between(1 + 7*2 + 5, 1 + 7*2 + 5 + 1)) |\n",
    "            (df['Day'].between(1 + 7*3 + 5, 1 + 7*3 + 5 + 1))))\n",
    "        \n",
    "    return weeks, weekends\n",
    "\n",
    "w, we = week_filters(tragitti)\n",
    "\n",
    "macchine_libere_week_weekend(tragitti).plot(color=wcolors)\n",
    "plt.yticks(range(720, 881, 20))\n",
    "plt.xlabel('orario')\n",
    "plt.ylabel('macchine libere Enjoy')\n",
    "plt.legend(bbox_to_anchor=(1.05, 1), loc='upper left', fontsize='small')\n",
    "plt.show()"
   ]
  }
 ],
 "metadata": {
  "kernelspec": {
   "display_name": "Python 2",
   "language": "python",
   "name": "python2"
  },
  "language_info": {
   "codemirror_mode": {
    "name": "ipython",
    "version": 2
   },
   "file_extension": ".py",
   "mimetype": "text/x-python",
   "name": "python",
   "nbconvert_exporter": "python",
   "pygments_lexer": "ipython2",
   "version": "2.7.14"
  }
 },
 "nbformat": 4,
 "nbformat_minor": 2
}
