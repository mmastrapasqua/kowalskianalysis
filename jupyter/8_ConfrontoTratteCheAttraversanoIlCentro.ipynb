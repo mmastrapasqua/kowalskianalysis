{
 "cells": [
  {
   "cell_type": "code",
   "execution_count": 1,
   "metadata": {
    "collapsed": true
   },
   "outputs": [],
   "source": [
    "%matplotlib inline\n",
    "import numpy as np\n",
    "import pandas as pd\n",
    "import matplotlib.pyplot as plt\n",
    "import math\n",
    "from scipy.constants import golden\n",
    "plt.style.use('fivethirtyeight')\n",
    "plt.rc('figure', figsize=(10.0, 10.0/golden))\n",
    "\n",
    "# VARIABILI\n",
    "csvfile = 'csv/alldata.csv'\n",
    "distance_param = 'CDistance'\n",
    "\n",
    "# LETTURA DATI\n",
    "tragitti = pd.read_csv(csvfile, index_col=False)\n",
    "pre_lock_cond = (tragitti['Month'] == 3) & (tragitti['Day'] <= 12)\n",
    "post_lock_cond = ((tragitti['Month'] == 5) & (tragitti['Day'] >= 4)) | (tragitti['Month'] > 5)\n",
    "tragitti = tragitti[post_lock_cond]\n",
    "\n",
    "# PULIZIA DATI\n",
    "distance_cond = tragitti[distance_param] != 0\n",
    "moovit_cond = tragitti['Public'] > 12\n",
    "public_cond = tragitti['Public'] != 0\n",
    "bike_cond = tragitti['Bike'] != 0\n",
    "foot_cond = tragitti['Foot'] != 0\n",
    "car_cond = tragitti['Car'] != 0\n",
    "car2go_cond = tragitti['Car2Go'] != 0\n",
    "enjoy_cond = tragitti['Enjoy'] != 0\n",
    "coherence_cond = (tragitti['Car'] <= tragitti['Car2Go']) & (tragitti['Car'] <= tragitti['Enjoy'])\n",
    "cleaned = distance_cond & public_cond & bike_cond & foot_cond & car_cond & car2go_cond & enjoy_cond & coherence_cond"
   ]
  },
  {
   "cell_type": "code",
   "execution_count": 2,
   "metadata": {},
   "outputs": [
    {
     "data": {
      "text/html": [
       "<div>\n",
       "<style>\n",
       "    .dataframe thead tr:only-child th {\n",
       "        text-align: right;\n",
       "    }\n",
       "\n",
       "    .dataframe thead th {\n",
       "        text-align: left;\n",
       "    }\n",
       "\n",
       "    .dataframe tbody tr th {\n",
       "        vertical-align: top;\n",
       "    }\n",
       "</style>\n",
       "<table border=\"1\" class=\"dataframe\">\n",
       "  <thead>\n",
       "    <tr style=\"text-align: right;\">\n",
       "      <th></th>\n",
       "      <th>Lat</th>\n",
       "      <th>Lon</th>\n",
       "      <th>Elat</th>\n",
       "      <th>Elon</th>\n",
       "      <th>ADistance</th>\n",
       "      <th>FDistance</th>\n",
       "      <th>Year</th>\n",
       "      <th>Month</th>\n",
       "      <th>Day</th>\n",
       "      <th>Hour</th>\n",
       "      <th>...</th>\n",
       "      <th>Public</th>\n",
       "      <th>Public2</th>\n",
       "      <th>Bike</th>\n",
       "      <th>Foot</th>\n",
       "      <th>Car</th>\n",
       "      <th>Car2Go</th>\n",
       "      <th>Enjoy</th>\n",
       "      <th>Car2GoFreeCars</th>\n",
       "      <th>EnjoyFreeCars</th>\n",
       "      <th>CDistance</th>\n",
       "    </tr>\n",
       "  </thead>\n",
       "  <tbody>\n",
       "    <tr>\n",
       "      <th>64800</th>\n",
       "      <td>45.474498</td>\n",
       "      <td>9.180897</td>\n",
       "      <td>45.496506</td>\n",
       "      <td>9.224699</td>\n",
       "      <td>4.200852</td>\n",
       "      <td>5.1607</td>\n",
       "      <td>2020</td>\n",
       "      <td>5</td>\n",
       "      <td>4</td>\n",
       "      <td>0</td>\n",
       "      <td>...</td>\n",
       "      <td>33</td>\n",
       "      <td>0</td>\n",
       "      <td>25</td>\n",
       "      <td>69</td>\n",
       "      <td>12</td>\n",
       "      <td>16</td>\n",
       "      <td>17</td>\n",
       "      <td>936</td>\n",
       "      <td>645</td>\n",
       "      <td>6.1379</td>\n",
       "    </tr>\n",
       "    <tr>\n",
       "      <th>64801</th>\n",
       "      <td>45.443876</td>\n",
       "      <td>9.184415</td>\n",
       "      <td>45.484429</td>\n",
       "      <td>9.187623</td>\n",
       "      <td>4.516006</td>\n",
       "      <td>5.1087</td>\n",
       "      <td>2020</td>\n",
       "      <td>5</td>\n",
       "      <td>4</td>\n",
       "      <td>0</td>\n",
       "      <td>...</td>\n",
       "      <td>28</td>\n",
       "      <td>0</td>\n",
       "      <td>27</td>\n",
       "      <td>68</td>\n",
       "      <td>14</td>\n",
       "      <td>20</td>\n",
       "      <td>20</td>\n",
       "      <td>936</td>\n",
       "      <td>645</td>\n",
       "      <td>7.2949</td>\n",
       "    </tr>\n",
       "    <tr>\n",
       "      <th>64802</th>\n",
       "      <td>45.450619</td>\n",
       "      <td>9.182201</td>\n",
       "      <td>45.502500</td>\n",
       "      <td>9.181618</td>\n",
       "      <td>5.768806</td>\n",
       "      <td>6.3926</td>\n",
       "      <td>2020</td>\n",
       "      <td>5</td>\n",
       "      <td>4</td>\n",
       "      <td>0</td>\n",
       "      <td>...</td>\n",
       "      <td>37</td>\n",
       "      <td>0</td>\n",
       "      <td>36</td>\n",
       "      <td>86</td>\n",
       "      <td>18</td>\n",
       "      <td>22</td>\n",
       "      <td>19</td>\n",
       "      <td>936</td>\n",
       "      <td>645</td>\n",
       "      <td>8.8463</td>\n",
       "    </tr>\n",
       "    <tr>\n",
       "      <th>64803</th>\n",
       "      <td>45.504757</td>\n",
       "      <td>9.188484</td>\n",
       "      <td>45.468675</td>\n",
       "      <td>9.156064</td>\n",
       "      <td>4.741568</td>\n",
       "      <td>5.7370</td>\n",
       "      <td>2020</td>\n",
       "      <td>5</td>\n",
       "      <td>4</td>\n",
       "      <td>0</td>\n",
       "      <td>...</td>\n",
       "      <td>48</td>\n",
       "      <td>0</td>\n",
       "      <td>26</td>\n",
       "      <td>77</td>\n",
       "      <td>14</td>\n",
       "      <td>18</td>\n",
       "      <td>23</td>\n",
       "      <td>936</td>\n",
       "      <td>645</td>\n",
       "      <td>6.9053</td>\n",
       "    </tr>\n",
       "    <tr>\n",
       "      <th>64804</th>\n",
       "      <td>45.480547</td>\n",
       "      <td>9.195806</td>\n",
       "      <td>45.501923</td>\n",
       "      <td>9.203171</td>\n",
       "      <td>2.445134</td>\n",
       "      <td>2.9488</td>\n",
       "      <td>2020</td>\n",
       "      <td>5</td>\n",
       "      <td>4</td>\n",
       "      <td>0</td>\n",
       "      <td>...</td>\n",
       "      <td>35</td>\n",
       "      <td>0</td>\n",
       "      <td>16</td>\n",
       "      <td>39</td>\n",
       "      <td>9</td>\n",
       "      <td>10</td>\n",
       "      <td>21</td>\n",
       "      <td>936</td>\n",
       "      <td>640</td>\n",
       "      <td>3.4690</td>\n",
       "    </tr>\n",
       "  </tbody>\n",
       "</table>\n",
       "<p>5 rows × 22 columns</p>\n",
       "</div>"
      ],
      "text/plain": [
       "             Lat       Lon       Elat      Elon  ADistance  FDistance  Year  \\\n",
       "64800  45.474498  9.180897  45.496506  9.224699   4.200852     5.1607  2020   \n",
       "64801  45.443876  9.184415  45.484429  9.187623   4.516006     5.1087  2020   \n",
       "64802  45.450619  9.182201  45.502500  9.181618   5.768806     6.3926  2020   \n",
       "64803  45.504757  9.188484  45.468675  9.156064   4.741568     5.7370  2020   \n",
       "64804  45.480547  9.195806  45.501923  9.203171   2.445134     2.9488  2020   \n",
       "\n",
       "       Month  Day  Hour    ...      Public  Public2  Bike  Foot  Car  Car2Go  \\\n",
       "64800      5    4     0    ...          33        0    25    69   12      16   \n",
       "64801      5    4     0    ...          28        0    27    68   14      20   \n",
       "64802      5    4     0    ...          37        0    36    86   18      22   \n",
       "64803      5    4     0    ...          48        0    26    77   14      18   \n",
       "64804      5    4     0    ...          35        0    16    39    9      10   \n",
       "\n",
       "       Enjoy  Car2GoFreeCars  EnjoyFreeCars  CDistance  \n",
       "64800     17             936            645     6.1379  \n",
       "64801     20             936            645     7.2949  \n",
       "64802     19             936            645     8.8463  \n",
       "64803     23             936            645     6.9053  \n",
       "64804     21             936            640     3.4690  \n",
       "\n",
       "[5 rows x 22 columns]"
      ]
     },
     "execution_count": 2,
     "metadata": {},
     "output_type": "execute_result"
    }
   ],
   "source": [
    "tragitti = tragitti[car_cond]\n",
    "tragitti.head()"
   ]
  },
  {
   "cell_type": "code",
   "execution_count": 3,
   "metadata": {
    "collapsed": true
   },
   "outputs": [],
   "source": [
    "center_point = (45.464216, 9.191949)\n",
    "point_onepointfive_km_far = (45.463878, 9.208735)\n",
    "center_point_radius = math.sqrt(\n",
    "    (point_onepointfive_km_far[0] - center_point[0])**2. +\n",
    "    (point_onepointfive_km_far[1] - center_point[1])**2.) # 1.5 km di raggio dal duomo di milano\n",
    "\n",
    "def pass_through_center(tratta):\n",
    "    start_point = tratta[0]\n",
    "    end_point = tratta[1]\n",
    "    medium_point = (float(start_point[0] + end_point[0]) / 2., float(start_point[1] + end_point[1]) / 2.)\n",
    "    \n",
    "    if ((medium_point[0] - center_point[0])**2. + (medium_point[1] - center_point[1])**2. <= center_point_radius**2.):\n",
    "        return True\n",
    "    else:\n",
    "        return False    "
   ]
  },
  {
   "cell_type": "code",
   "execution_count": 4,
   "metadata": {},
   "outputs": [],
   "source": [
    "propertydf = tragitti.apply(lambda p: pass_through_center(((p['Lat'], p['Lon']), (p['Elat'], p['Elon']))), axis=1)"
   ]
  },
  {
   "cell_type": "code",
   "execution_count": 5,
   "metadata": {},
   "outputs": [
    {
     "data": {
      "text/plain": [
       "63210"
      ]
     },
     "execution_count": 5,
     "metadata": {},
     "output_type": "execute_result"
    }
   ],
   "source": [
    "len(tragitti)"
   ]
  },
  {
   "cell_type": "code",
   "execution_count": 6,
   "metadata": {},
   "outputs": [
    {
     "data": {
      "text/plain": [
       "30590"
      ]
     },
     "execution_count": 6,
     "metadata": {},
     "output_type": "execute_result"
    }
   ],
   "source": [
    "len(tragitti[propertydf == True])"
   ]
  },
  {
   "cell_type": "code",
   "execution_count": 7,
   "metadata": {},
   "outputs": [
    {
     "data": {
      "text/plain": [
       "32620"
      ]
     },
     "execution_count": 7,
     "metadata": {},
     "output_type": "execute_result"
    }
   ],
   "source": [
    "len(tragitti[propertydf == False])"
   ]
  },
  {
   "cell_type": "code",
   "execution_count": 8,
   "metadata": {
    "collapsed": true
   },
   "outputs": [],
   "source": [
    "# Velocita' media durante il giorno\n",
    "def vmedia_giorno(df, mezzo):\n",
    "    ore = range(7, 24)\n",
    "    vmedia_giorno_ore = []\n",
    "    for ora in ore:\n",
    "        tragitti_fascia_oraria = df[df['Hour'] == ora]\n",
    "        velocita_media_oraria = (tragitti_fascia_oraria[distance_param] * 60.) / tragitti_fascia_oraria[mezzo]\n",
    "        vmedia_giorno_ore.append(velocita_media_oraria.mean())\n",
    "    return vmedia_giorno_ore\n",
    "    \n",
    "def vmedia_week(df, mezzo):\n",
    "    short_paths = df[distance_param].between(2.0, 6.0)\n",
    "    long_paths = df[distance_param].between(6.0, 10.0)\n",
    "    \n",
    "    lst = [\n",
    "        vmedia_giorno(df[short_paths & (propertydf == True)], mezzo),\n",
    "        vmedia_giorno(df[long_paths & (propertydf == True)], mezzo),\n",
    "        vmedia_giorno(df[short_paths & (propertydf == False)], mezzo),\n",
    "        vmedia_giorno(df[long_paths & (propertydf == False)], mezzo)]\n",
    "    \n",
    "    array = np.array(lst).T\n",
    "    \n",
    "    return pd.DataFrame(array, index=range(7,24), columns=[\n",
    "        '[2, 6) km centro', '[6, 10) km centro',\n",
    "        '[2, 6) km fuori', '[6, 10) km fuori']).round(2)\n",
    "\n",
    "wcolors = ['dodgerblue', 'royalblue', 'lightcoral', 'tomato']"
   ]
  },
  {
   "cell_type": "code",
   "execution_count": 9,
   "metadata": {},
   "outputs": [
    {
     "data": {
      "image/png": "[encoded data removed]",
      "text/plain": [
       "<matplotlib.figure.Figure at 0x7ff35401b810>"
      ]
     },
     "metadata": {},
     "output_type": "display_data"
    }
   ],
   "source": [
    "plt.rc('figure', figsize=((20, 10)))\n",
    "vmedia_week(tragitti, 'Car').plot.bar(color=wcolors)\n",
    "plt.ylim(21, 27)\n",
    "plt.xlabel('orario [h]')\n",
    "plt.ylabel('v.media car [km/h]')\n",
    "plt.show()"
   ]
  }
 ],
 "metadata": {
  "kernelspec": {
   "display_name": "Python 2",
   "language": "python",
   "name": "python2"
  },
  "language_info": {
   "codemirror_mode": {
    "name": "ipython",
    "version": 2
   },
   "file_extension": ".py",
   "mimetype": "text/x-python",
   "name": "python",
   "nbconvert_exporter": "python",
   "pygments_lexer": "ipython2",
   "version": "2.7.14"
  }
 },
 "nbformat": 4,
 "nbformat_minor": 2
}
